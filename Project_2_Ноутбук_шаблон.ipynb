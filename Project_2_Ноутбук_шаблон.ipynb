{
  "cells": [
    {
      "cell_type": "markdown",
      "id": "42289889-bd57-434e-9637-d3e354756316",
      "metadata": {
        "id": "42289889-bd57-434e-9637-d3e354756316"
      },
      "source": [
        "<center> <img src = https://raw.githubusercontent.com/AndreyRysistov/DatasetsForPandas/main/hh%20label.jpg alt=\"drawing\" style=\"width:400px;\">"
      ]
    },
    {
      "cell_type": "markdown",
      "id": "829cb75b-f14e-4ba8-9195-7ba929a7d656",
      "metadata": {
        "id": "829cb75b-f14e-4ba8-9195-7ba929a7d656",
        "tags": []
      },
      "source": [
        "# <center> Проект: Анализ вакансий из HeadHunter\n",
        "   "
      ]
    },
    {
      "cell_type": "code",
      "execution_count": 1,
      "id": "dccfde33-2452-43fb-a8a5-5c6ebc02a71d",
      "metadata": {
        "id": "dccfde33-2452-43fb-a8a5-5c6ebc02a71d"
      },
      "outputs": [],
      "source": [
        "import pandas as pd\n",
        "import psycopg2"
      ]
    },
    {
      "cell_type": "code",
      "execution_count": 2,
      "id": "oVKH4ehvf8Ay",
      "metadata": {
        "id": "oVKH4ehvf8Ay"
      },
      "outputs": [],
      "source": [
        "# вставьте сюда параметры подключения из юнита 1. Работа с базой данных из Python \n",
        "DBNAME = 'skillfactory'\n",
        "USER = 'skillfactory'\n",
        "PASSWORD = 'cCkxxLVrDE8EbvjueeMedPKt'\n",
        "HOST = '84.201.134.129'\n",
        "PORT = 5432"
      ]
    },
    {
      "cell_type": "code",
      "execution_count": 3,
      "id": "G4X_q8KBf7SF",
      "metadata": {
        "id": "G4X_q8KBf7SF"
      },
      "outputs": [],
      "source": [
        "connection = psycopg2.connect(\n",
        "    dbname=DBNAME,\n",
        "    user=USER,\n",
        "    host=HOST,\n",
        "    password=PASSWORD,\n",
        "    port=PORT\n",
        ")"
      ]
    },
    {
      "cell_type": "markdown",
      "id": "0dc6476b-7a00-44f1-ac93-6e3baed33a29",
      "metadata": {
        "id": "0dc6476b-7a00-44f1-ac93-6e3baed33a29"
      },
      "source": [
        "# Юнит 3. Предварительный анализ данных"
      ]
    },
    {
      "cell_type": "markdown",
      "id": "889782b6-8d1c-410e-8920-e57f27917c64",
      "metadata": {
        "id": "889782b6-8d1c-410e-8920-e57f27917c64"
      },
      "source": [
        "1. Напишите запрос, который посчитает количество вакансий в нашей базе (вакансии находятся в таблице vacancies). "
      ]
    },
    {
      "cell_type": "code",
      "execution_count": 4,
      "id": "bc39e68e-ed02-4ee2-9235-7258a2f867a8",
      "metadata": {
        "id": "bc39e68e-ed02-4ee2-9235-7258a2f867a8"
      },
      "outputs": [],
      "source": [
        "# текст запроса\n",
        "import pandas as pd\n",
        "import psycopg2\n",
        "\n",
        "# Параметры подключения\n",
        "DBNAME = 'project_sql'\n",
        "USER = 'skillfactory'\n",
        "PASSWORD = 'cCkxxLVrDE8EbvjueeMedPKt'\n",
        "HOST = '84.201.134.129'\n",
        "PORT = 5432\n",
        "\n",
        "# Подключение к базе данных\n",
        "connection = psycopg2.connect(\n",
        "    dbname=DBNAME,\n",
        "    user=USER,\n",
        "    host=HOST,\n",
        "    password=PASSWORD,\n",
        "    port=PORT\n",
        ")\n",
        "\n",
        "# Запрос для подсчета количества вакансий\n",
        "query = '''\n",
        "SELECT COUNT(*) as total_vacancies\n",
        "FROM vacancies\n",
        "'''\n",
        "\n"
      ]
    },
    {
      "cell_type": "code",
      "execution_count": 5,
      "id": "7mAwtsk4hEHY",
      "metadata": {
        "id": "7mAwtsk4hEHY"
      },
      "outputs": [
        {
          "name": "stdout",
          "output_type": "stream",
          "text": [
            "Общее количество вакансий: 49197\n"
          ]
        },
        {
          "name": "stderr",
          "output_type": "stream",
          "text": [
            "C:\\Users\\Владимир\\AppData\\Local\\Temp\\ipykernel_20136\\920889186.py:3: UserWarning: pandas only supports SQLAlchemy connectable (engine/connection) or database string URI or sqlite3 DBAPI2 connection. Other DBAPI2 objects are not tested. Please consider using SQLAlchemy.\n",
            "  df = pd.read_sql_query(query, connection)\n"
          ]
        }
      ],
      "source": [
        "# результат запроса\n",
        "# Выполняем запрос и получаем результат\n",
        "df = pd.read_sql_query(query, connection)\n",
        "print(f\"Общее количество вакансий: {df['total_vacancies'].iloc[0]}\")\n",
        "\n",
        "# Закрываем соединение\n",
        "connection.close()"
      ]
    },
    {
      "cell_type": "markdown",
      "id": "b583485d-1f9e-494e-ada4-80ffff7c53d6",
      "metadata": {
        "id": "b583485d-1f9e-494e-ada4-80ffff7c53d6"
      },
      "source": [
        "2. Напишите запрос, который посчитает количество работодателей (таблица employers). "
      ]
    },
    {
      "cell_type": "code",
      "execution_count": 6,
      "id": "5408c52c-3407-4a63-b25b-1aafa2322d28",
      "metadata": {
        "id": "5408c52c-3407-4a63-b25b-1aafa2322d28"
      },
      "outputs": [],
      "source": [
        "# текст запроса\n",
        "import pandas as pd\n",
        "import psycopg2\n",
        "\n",
        "# Параметры подключения\n",
        "DBNAME = 'project_sql'\n",
        "USER = 'skillfactory'\n",
        "PASSWORD = 'cCkxxLVrDE8EbvjueeMedPKt'\n",
        "HOST = '84.201.134.129'\n",
        "PORT = 5432\n",
        "\n",
        "try:\n",
        "    with psycopg2.connect(\n",
        "        dbname=DBNAME,\n",
        "        user=USER,\n",
        "        host=HOST,\n",
        "        password=PASSWORD,\n",
        "        port=PORT\n",
        "    ) as connection:\n",
        "        \n",
        "        # Запрос для подсчета количества работодателей\n",
        "        query = '''\n",
        "        SELECT COUNT(*) as total_employers\n",
        "        FROM employers\n",
        "        '''\n",
        "        \n",
        "except psycopg2.Error as e:\n",
        "    print(f\"Ошибка базы данных: {e}\")\n",
        "except Exception as e:\n",
        "    print(f\"Произошла ошибка: {e}\")"
      ]
    },
    {
      "cell_type": "code",
      "execution_count": 7,
      "id": "jVL4eshKhdqc",
      "metadata": {
        "id": "jVL4eshKhdqc"
      },
      "outputs": [
        {
          "name": "stdout",
          "output_type": "stream",
          "text": [
            "Общее количество работодателей: 23501\n"
          ]
        },
        {
          "name": "stderr",
          "output_type": "stream",
          "text": [
            "C:\\Users\\Владимир\\AppData\\Local\\Temp\\ipykernel_20136\\2432729168.py:2: UserWarning: pandas only supports SQLAlchemy connectable (engine/connection) or database string URI or sqlite3 DBAPI2 connection. Other DBAPI2 objects are not tested. Please consider using SQLAlchemy.\n",
            "  df = pd.read_sql_query(query, connection)\n"
          ]
        }
      ],
      "source": [
        "# результат запроса\n",
        "df = pd.read_sql_query(query, connection)\n",
        "print(f\"Общее количество работодателей: {df['total_employers'].iloc[0]}\")"
      ]
    },
    {
      "cell_type": "markdown",
      "id": "a2bfff1f-c975-4bf6-84be-2185d79dcb76",
      "metadata": {
        "id": "a2bfff1f-c975-4bf6-84be-2185d79dcb76"
      },
      "source": [
        "3. Посчитате с помощью запроса количество регионов (таблица areas)."
      ]
    },
    {
      "cell_type": "code",
      "execution_count": 8,
      "id": "1m8QJwBYhey6",
      "metadata": {
        "id": "1m8QJwBYhey6"
      },
      "outputs": [
        {
          "name": "stdout",
          "output_type": "stream",
          "text": [
            "Подключение установлено успешно\n"
          ]
        }
      ],
      "source": [
        "# текст запроса\n",
        "import pandas as pd\n",
        "import psycopg2\n",
        "from psycopg2 import OperationalError\n",
        "import time\n",
        "\n",
        "# Параметры подключения\n",
        "DBNAME = 'project_sql'\n",
        "USER = 'skillfactory'\n",
        "PASSWORD = 'cCkxxLVrDE8EbvjueeMedPKt'\n",
        "HOST = '84.201.134.129'\n",
        "PORT = 5432\n",
        "\n",
        "def connect_with_retry(max_retries=3, delay=2):\n",
        "    \"\"\"Функция для подключения с повторными попытками\"\"\"\n",
        "    for attempt in range(max_retries):\n",
        "        try:\n",
        "            connection = psycopg2.connect(\n",
        "                dbname=DBNAME,\n",
        "                user=USER,\n",
        "                host=HOST,\n",
        "                password=PASSWORD,\n",
        "                port=PORT,\n",
        "                connect_timeout=10\n",
        "            )\n",
        "            print(\"Подключение установлено успешно\")\n",
        "            return connection\n",
        "        except OperationalError as e:\n",
        "            print(f\"Попытка {attempt + 1} не удалась: {e}\")\n",
        "            if attempt < max_retries - 1:\n",
        "                print(f\"Повторная попытка через {delay} секунд...\")\n",
        "                time.sleep(delay)\n",
        "            else:\n",
        "                raise e\n",
        "\n",
        "try:\n",
        "    # Подключаемся к базе данных\n",
        "    connection = connect_with_retry()\n",
        "    \n",
        "    # Запрос для подсчета количества регионов\n",
        "    query = '''\n",
        "    SELECT COUNT(*) as total_areas\n",
        "    FROM areas\n",
        "    '''\n",
        "    \n",
        "except Exception as e:\n",
        "    print(f\"Произошла ошибка: {e}\")"
      ]
    },
    {
      "cell_type": "code",
      "execution_count": 9,
      "id": "EZsn9tlfhe7f",
      "metadata": {
        "id": "EZsn9tlfhe7f"
      },
      "outputs": [
        {
          "name": "stdout",
          "output_type": "stream",
          "text": [
            "Общее количество регионов: 1362\n"
          ]
        },
        {
          "name": "stderr",
          "output_type": "stream",
          "text": [
            "C:\\Users\\Владимир\\AppData\\Local\\Temp\\ipykernel_20136\\4110639867.py:3: UserWarning: pandas only supports SQLAlchemy connectable (engine/connection) or database string URI or sqlite3 DBAPI2 connection. Other DBAPI2 objects are not tested. Please consider using SQLAlchemy.\n",
            "  df = pd.read_sql_query(query, connection)\n"
          ]
        }
      ],
      "source": [
        "# результат запроса\n",
        "# Выполняем запрос и получаем результат\n",
        "df = pd.read_sql_query(query, connection)\n",
        "print(f\"Общее количество регионов: {df['total_areas'].iloc[0]}\")\n",
        "    \n",
        "# Закрываем соединение\n",
        "connection.close()"
      ]
    },
    {
      "cell_type": "markdown",
      "id": "41bb59f3-53cc-4a67-a5bc-bedf573955e4",
      "metadata": {
        "id": "41bb59f3-53cc-4a67-a5bc-bedf573955e4"
      },
      "source": [
        "4. Посчитате с помощью запроса количество сфер деятельности в базе (таблица industries)."
      ]
    },
    {
      "cell_type": "code",
      "execution_count": 10,
      "id": "d286cf4c-707b-4cd2-9190-7ab3587d04a1",
      "metadata": {
        "id": "d286cf4c-707b-4cd2-9190-7ab3587d04a1"
      },
      "outputs": [
        {
          "name": "stdout",
          "output_type": "stream",
          "text": [
            "Подключение установлено успешно\n"
          ]
        }
      ],
      "source": [
        "# текст запроса\n",
        "import pandas as pd\n",
        "import psycopg2\n",
        "from psycopg2 import OperationalError\n",
        "import time\n",
        "\n",
        "# Параметры подключения\n",
        "DBNAME = 'project_sql'\n",
        "USER = 'skillfactory'\n",
        "PASSWORD = 'cCkxxLVrDE8EbvjueeMedPKt'\n",
        "HOST = '84.201.134.129'\n",
        "PORT = 5432\n",
        "\n",
        "def connect_with_retry(max_retries=3, delay=2):\n",
        "    \"\"\"Функция для подключения с повторными попытками\"\"\"\n",
        "    for attempt in range(max_retries):\n",
        "        try:\n",
        "            connection = psycopg2.connect(\n",
        "                dbname=DBNAME,\n",
        "                user=USER,\n",
        "                host=HOST,\n",
        "                password=PASSWORD,\n",
        "                port=PORT,\n",
        "                connect_timeout=10\n",
        "            )\n",
        "            print(\"Подключение установлено успешно\")\n",
        "            return connection\n",
        "        except OperationalError as e:\n",
        "            print(f\"Попытка {attempt + 1} не удалась: {e}\")\n",
        "            if attempt < max_retries - 1:\n",
        "                print(f\"Повторная попытка через {delay} секунд...\")\n",
        "                time.sleep(delay)\n",
        "            else:\n",
        "                raise e\n",
        "\n",
        "try:\n",
        "    # Подключаемся к базе данных\n",
        "    connection = connect_with_retry()\n",
        "    \n",
        "    # Запрос для подсчета количества сфер деятельности\n",
        "    query = '''\n",
        "    SELECT COUNT(*) as total_industries\n",
        "    FROM industries\n",
        "    '''\n",
        "    \n",
        "    # Выполняем запрос и получаем результат\n",
        "    \n",
        "except Exception as e:\n",
        "    print(f\"Произошла ошибка: {e}\")"
      ]
    },
    {
      "cell_type": "code",
      "execution_count": 11,
      "id": "JYAaoZ4qhfzW",
      "metadata": {
        "id": "JYAaoZ4qhfzW"
      },
      "outputs": [
        {
          "name": "stdout",
          "output_type": "stream",
          "text": [
            "Общее количество сфер деятельности: 294\n"
          ]
        },
        {
          "name": "stderr",
          "output_type": "stream",
          "text": [
            "C:\\Users\\Владимир\\AppData\\Local\\Temp\\ipykernel_20136\\2356503552.py:2: UserWarning: pandas only supports SQLAlchemy connectable (engine/connection) or database string URI or sqlite3 DBAPI2 connection. Other DBAPI2 objects are not tested. Please consider using SQLAlchemy.\n",
            "  df = pd.read_sql_query(query, connection)\n"
          ]
        }
      ],
      "source": [
        "# результат запроса\n",
        "df = pd.read_sql_query(query, connection)\n",
        "print(f\"Общее количество сфер деятельности: {df['total_industries'].iloc[0]}\")\n",
        "    \n",
        "# Закрываем соединение\n",
        "connection.close()"
      ]
    },
    {
      "cell_type": "markdown",
      "id": "9a8a2181-6914-448b-85f1-38f5f18b8a93",
      "metadata": {
        "id": "9a8a2181-6914-448b-85f1-38f5f18b8a93"
      },
      "source": [
        "***"
      ]
    },
    {
      "cell_type": "markdown",
      "id": "a56b353f",
      "metadata": {},
      "source": [
        "### выводы по предварительному анализу данных\n",
        "База данных охватывает значительный объем информации о российском рынке труда, включая 49 197 вакансий от 23 501 работодателя. Географическое покрытие является exceptionally широким - представлены 1 362 региона, что позволяет анализировать как крупные города, так и smaller населенные пункты по всей стране. Отраслевое разнообразие также впечатляет: 294 сферы деятельности обеспечивают детализированный охват традиционных и современных индустрий.\n",
        "\n",
        "Однако данные имеют существенный недостаток: только 49% вакансий содержат информацию о зарплате, что значительно ограничивает возможности анализа оплаты труда. Соотношение вакансий и работодателей (в среднем 2.09 на компанию) указывает на преобладание малого и среднего бизнеса в базе, что следует учитывать при интерпретации результатов.\n",
        "\n"
      ]
    },
    {
      "cell_type": "markdown",
      "id": "8d62a9f3-f64e-4fe7-bdac-c4dffa16155e",
      "metadata": {
        "id": "8d62a9f3-f64e-4fe7-bdac-c4dffa16155e"
      },
      "source": [
        "# Юнит 4. Детальный анализ вакансий"
      ]
    },
    {
      "cell_type": "markdown",
      "id": "93053d3d-b284-481a-9cf7-012d7014c0e0",
      "metadata": {
        "id": "93053d3d-b284-481a-9cf7-012d7014c0e0"
      },
      "source": [
        "1. Напишите запрос, который позволит узнать, сколько (cnt) вакансий в каждом регионе (area).\n",
        "Отсортируйте по количеству вакансий в порядке убывания."
      ]
    },
    {
      "cell_type": "code",
      "execution_count": 38,
      "id": "3f069da6-fdc9-4ae7-b514-fafe2675efd3",
      "metadata": {
        "id": "3f069da6-fdc9-4ae7-b514-fafe2675efd3"
      },
      "outputs": [],
      "source": [
        "# текст запроса\n",
        "import pandas as pd\n",
        "import psycopg2\n",
        "from psycopg2 import OperationalError\n",
        "\n",
        "# Параметры подключения\n",
        "DBNAME = 'project_sql'\n",
        "USER = 'skillfactory'\n",
        "PASSWORD = 'cCkxxLVrDE8EbvjueeMedPKt'\n",
        "HOST = '84.201.134.129'\n",
        "PORT = 5432\n",
        "\n",
        "# Подключение к базе данных\n",
        "connection = psycopg2.connect(\n",
        "    dbname=DBNAME,\n",
        "    user=USER,\n",
        "    password=PASSWORD,\n",
        "    host=HOST,\n",
        "    port=PORT\n",
        ")\n",
        "\n",
        "# Запрос для подсчета вакансий по регионам\n",
        "query = \"\"\"\n",
        "SELECT \n",
        "    a.name AS region,\n",
        "    COUNT(v.id) AS cnt\n",
        "FROM vacancies v\n",
        "JOIN areas a ON v.area_id = a.id\n",
        "GROUP BY a.name\n",
        "ORDER BY cnt DESC;\n",
        "\"\"\""
      ]
    },
    {
      "cell_type": "code",
      "execution_count": 39,
      "id": "136f51b7",
      "metadata": {},
      "outputs": [
        {
          "name": "stdout",
          "output_type": "stream",
          "text": [
            "Количество вакансий по регионам:\n",
            "                                        region  cnt\n",
            "                                        Москва 5333\n",
            "                               Санкт-Петербург 2851\n",
            "                                         Минск 2112\n",
            "                                   Новосибирск 2006\n",
            "                                        Алматы 1892\n",
            "                                  Екатеринбург 1698\n",
            "                               Нижний Новгород 1670\n",
            "                                        Казань 1415\n",
            "                                     Краснодар 1301\n",
            "                                        Самара 1144\n",
            "                                Ростов-на-Дону 1131\n",
            "                                       Воронеж 1063\n",
            "                                       Ташкент  851\n",
            "                                    Красноярск  847\n",
            "                                    Нур-Султан  840\n",
            "                                     Челябинск  786\n",
            "                                         Пермь  771\n",
            "                                           Уфа  767\n",
            "                                         Томск  692\n",
            "                                          Омск  617\n",
            "                                       Саратов  579\n",
            "                                        Тюмень  547\n",
            "                                   Владивосток  539\n",
            "                                       Тбилиси  474\n",
            "                                        Ижевск  466\n",
            "                                     Волгоград  456\n",
            "                                       Иркутск  451\n",
            "                                     Ярославль  391\n",
            "                                       Барнаул  374\n",
            "                                        Рязань  346\n",
            "                                   Калининград  343\n",
            "                                          Тула  343\n",
            "                                     Хабаровск  338\n",
            "                                     Ульяновск  332\n",
            "                                      Кемерово  316\n",
            "                                         Пенза  305\n",
            "                     Киров (Кировская область)  293\n",
            "                                         Тверь  274\n",
            "                                      Белгород  253\n",
            "                                     Чебоксары  245\n",
            "                                          Сочи  230\n",
            "                                      Тольятти  229\n",
            "                                       Армения  223\n",
            "                                      Владимир  219\n",
            "                                        Липецк  203\n",
            "                              Набережные Челны  202\n",
            "                                      Оренбург  199\n",
            "                  Иваново (Ивановская область)  190\n",
            "                                   Симферополь  187\n",
            "                                         Курск  178\n",
            "                                        Бишкек  166\n",
            "                                        Брянск  161\n",
            "                                        Калуга  158\n",
            "                                   Новокузнецк  156\n",
            "                                    Ставрополь  155\n",
            "                                       Вологда  153\n",
            "                                   Севастополь  152\n",
            "                                      Кострома  146\n",
            "                                      Смоленск  141\n",
            "                                          Кипр  136\n",
            "                                    Зеленоград  132\n",
            "                                        Тамбов  123\n",
            "                                      Таганрог  116\n",
            "                                     Астрахань  115\n",
            "                                          Орел  115\n",
            "                                       Саранск  113\n",
            "                                          Чита  111\n",
            "                              Великий Новгород  105\n",
            "                                     Караганда  102\n",
            "                                      Мурманск  100\n",
            "                                     Череповец   99\n",
            "                                   Архангельск   99\n",
            "                                    Йошкар-Ола   97\n",
            "                                  Петрозаводск   97\n",
            "                                        Мытищи   94\n",
            "               Благовещенск (Амурская область)   94\n",
            "                                        Курган   93\n",
            "                                        Атырау   93\n",
            "                                  Магнитогорск   91\n",
            "                                     Иннополис   91\n",
            "                                          Баку   91\n",
            "                                         Псков   90\n",
            "                                Южно-Сахалинск   86\n",
            "                                        Сургут   86\n",
            "                                      Улан-Удэ   84\n",
            "                                        Батуми   83\n",
            "                                         Химки   77\n",
            "                 Подольск (Московская область)   77\n",
            "                                     Махачкала   76\n",
            "                                 Нижневартовск   73\n",
            "                                  Новороссийск   66\n",
            "                                       Королев   63\n",
            "                                       Шымкент   62\n",
            "                      Петропавловск-Камчатский   61\n",
            "                                        Гомель   61\n",
            "              Волжский (Волгоградская область)   57\n",
            "                                       Обнинск   57\n",
            "                                      Одинцово   56\n",
            "                                         Брест   54\n",
            "                                        Якутск   54\n",
            "                                        Польша   53\n",
            "                                        Гродно   50\n",
            "                          Комсомольск-на-Амуре   49\n",
            "                                         Бийск   48\n",
            "             Дзержинск (Нижегородская область)   46\n",
            "                                      Балашиха   46\n",
            "                                   Красногорск   45\n",
            "                                       Рыбинск   44\n",
            "                                      Павлодар   44\n",
            "                                 Новый Уренгой   43\n",
            "                                  Нижний Тагил   43\n",
            "                                     Сыктывкар   42\n",
            "                                       Витебск   42\n",
            "                                  Новочеркасск   40\n",
            "                                  Старый Оскол   40\n",
            "                                         Артем   40\n",
            "                                       Щелково   39\n",
            "                                       Ангарск   39\n",
            "                                     Пятигорск   39\n",
            "                                        Турция   39\n",
            "                                      Норильск   38\n",
            "                                       Люберцы   37\n",
            "                                       Находка   37\n",
            "                                        Братск   37\n",
            "                                        Абакан   37\n",
            "                                        Ковров   37\n",
            "                                     Уссурийск   36\n",
            "                                   Альметьевск   35\n",
            "                                       Могилев   34\n",
            "                                       Энгельс   34\n",
            "                                    Домодедово   32\n",
            "                                    Нижнекамск   32\n",
            "                  Пушкино (Московская область)   32\n",
            "                                   Владикавказ   32\n",
            "                                         Анапа   31\n",
            "                                       Коломна   31\n",
            "                                Ханты-Мансийск   31\n",
            "                                  Долгопрудный   30\n",
            "                                   Нефтеюганск   29\n",
            "                                      Костанай   29\n",
            "                                         Дубна   28\n",
            "                                        Актобе   28\n",
            "                              Усть-Каменогорск   27\n",
            "               Новомосковск (Тульская область)   27\n",
            "                                   Стерлитамак   26\n",
            "                                        Сербия   26\n",
            "                                     Раменское   26\n",
            "                                       Магадан   25\n",
            "                             Аксай (Казахстан)   25\n",
            "                                         Муром   25\n",
            "                                Новокуйбышевск   25\n",
            "                                     Жуковский   24\n",
            "                                         Миасс   24\n",
            "                                          Орск   24\n",
            "                                       Кишинёв   23\n",
            "                                 Петропавловск   23\n",
            "                                     Березники   23\n",
            "                                         Актау   22\n",
            "                                        Майкоп   21\n",
            "                                       Сызрань   21\n",
            "                                 Орехово-Зуево   21\n",
            "                                 Сергиев Посад   21\n",
            "                                 Солнечногорск   20\n",
            "                                       Ногинск   20\n",
            "                                      Балаково   19\n",
            "                                         Литва   19\n",
            "                                    Волгодонск   19\n",
            "                                      Германия   19\n",
            "                                       Армавир   18\n",
            "                                       Салават   18\n",
            "                                   Талдыкорган   18\n",
            "                                        Бердск   18\n",
            "                                       Уральск   18\n",
            "                Железногорск (Курская область)   17\n",
            "                                       Грозный   17\n",
            "                                         Керчь   17\n",
            "                                       Елабуга   17\n",
            "                                  Электросталь   16\n",
            "                                        Туапсе   16\n",
            "                                     Самарканд   16\n",
            "                                  Северодвинск   16\n",
            "                                  Наро-Фоминск   16\n",
            "                                      Тобольск   16\n",
            "                     Северск (Томская область)   16\n",
            "                                         Истра   16\n",
            "                                     Ессентуки   16\n",
            "                                       Дмитров   16\n",
            "                                         Лобня   16\n",
            "                                         Выкса   16\n",
            "                                          Ялта   16\n",
            "                                       Копейск   15\n",
            "                                         Шахты   15\n",
            "                                        Кстово   15\n",
            "                                      Серпухов   15\n",
            "                                          Елец   15\n",
            "                                  Первоуральск   15\n",
            "                                        Видное   15\n",
            "                                         Чехия   14\n",
            "                                    Черногория   14\n",
            "                                    Всеволожск   14\n",
            "                                          Киев   14\n",
            "                                Новочебоксарск   14\n",
            "                                          Клин   14\n",
            "                                        Реутов   13\n",
            "                                     Кингисепп   13\n",
            "         Октябрьский (Республика Башкортостан)   13\n",
            "                                      Кокшетау   13\n",
            "                                  Димитровград   13\n",
            "                                         Адлер   13\n",
            "                                      Черкесск   13\n",
            "                                    Нефтекамск   13\n",
            "                                       Гатчина   13\n",
            "                              Минеральные Воды   13\n",
            "                                   Прокопьевск   13\n",
            "                                 Верхняя Пышма   12\n",
            "                                   Новоалтайск   12\n",
            "                                           США   12\n",
            "                                           ОАЭ   12\n",
            "                                    Кисловодск   12\n",
            "                                      Болгария   12\n",
            "                             Каменск-Уральский   12\n",
            "                                      Рубцовск   12\n",
            "             Мирный (Республика Саха (Якутия))   12\n",
            "                                    Ивантеевка   11\n",
            "                                       Камышин   11\n",
            "                                         Чехов   11\n",
            "                                       Арзамас   11\n",
            "                                      Ноябрьск   11\n",
            "                                         Тараз   11\n",
            "                   Троицк (Московская область)   10\n",
            "           Зеленодольск (Республика Татарстан)   10\n",
            "                                        Латвия   10\n",
            "                                      Нахабино   10\n",
            "                                        Элиста   10\n",
            "                                       Борисов   10\n",
            "                                       Колпино   10\n",
            "                                      Златоуст   10\n",
            "                                  Междуреченск    9\n",
            "                                      Усть-Кут    9\n",
            "                                        Ачинск    9\n",
            "                                       Удачный    9\n",
            "        Благовещенск (Республика Башкортостан)    9\n",
            "                                       Фрязино    9\n",
            "                                        Губкин    9\n",
            "                                       Когалым    9\n",
            "                               Железнодорожный    9\n",
            "                                       Апатиты    9\n",
            "                                           Шуя    9\n",
            "                                   Южноуральск    9\n",
            "                                       Венгрия    9\n",
            "                                 Горно-Алтайск    9\n",
            "                                       Бузулук    9\n",
            "                                       Нальчик    8\n",
            "                                  Сосновоборск    8\n",
            "                                       Батайск    8\n",
            "                                     Егорьевск    8\n",
            "                                        Глазов    8\n",
            "                          Переславль-Залесский    8\n",
            "                                      Бронницы    8\n",
            "                                      Шебекино    8\n",
            "              Железногорск (Красноярский край)    8\n",
            "                                         Семей    8\n",
            "                                       Ступино    8\n",
            "                                          Ухта    7\n",
            "                                     Финляндия    7\n",
            "                                     Свободный    7\n",
            "                                    Губкинский    7\n",
            "                                        Усинск    7\n",
            "                                      Темиртау    7\n",
            "                                       Шелехов    7\n",
            "                                     Геленджик    7\n",
            "                                     Евпатория    7\n",
            "                                        Ванино    7\n",
            "          Сосновый Бор (Ленинградская область)    7\n",
            "                                       Назрань    7\n",
            "                                        Волжск    7\n",
            "                                       Кубинка    7\n",
            "                                         Серов    7\n",
            "                                      Салехард    7\n",
            "                                      Конаково    7\n",
            "                                         Кызыл    7\n",
            "                                        Кыштым    7\n",
            "                                      Нерюнгри    6\n",
            "                                Большой Камень    6\n",
            "                              Павловский Посад    6\n",
            "                                      Чапаевск    6\n",
            "                                  Новошахтинск    6\n",
            "                                        Белово    6\n",
            "                                    Саяногорск    6\n",
            "                                       Дедовск    6\n",
            "                                       Узловая    6\n",
            "                                        Абинск    6\n",
            "                                     Соликамск    6\n",
            "                Павловск (Воронежская область)    6\n",
            "                                         Саров    6\n",
            "                                      Воткинск    6\n",
            "                                    Биробиджан    6\n",
            "                                      Хасавюрт    6\n",
            "                                    Чайковский    6\n",
            "                                        Асбест    6\n",
            "               Зеленогорск (Красноярский край)    6\n",
            "                                      Луховицы    6\n",
            "                                         Тосно    6\n",
            "                                        Темрюк    6\n",
            "                            Каменск-Шахтинский    6\n",
            "                                  Невинномысск    6\n",
            "                                    Барановичи    5\n",
            "                                     Кызылорда    5\n",
            "                                 Кирово-Чепецк    5\n",
            "                                      Бобруйск    5\n",
            "                                       Искитим    5\n",
            "                                        Выборг    5\n",
            "                                      Осинники    5\n",
            "                    Аксай (Ростовская область)    5\n",
            "                                       Алексин    5\n",
            "                             Ленинск-Кузнецкий    5\n",
            "                                         Алдан    5\n",
            "                                    Котельники    5\n",
            "                                  Усть-Лабинск    5\n",
            "                                 Краснокаменск    5\n",
            "                                   Александров    5\n",
            "                                  Великие Луки    5\n",
            "                                          Ржев    5\n",
            "                                     Экибастуз    5\n",
            "                                  Черноголовка    5\n",
            "                                    Мончегорск    5\n",
            "                                       Пыть-Ях    5\n",
            "                                   Новоуральск    5\n",
            "                                      Людиново    5\n",
            "                                     Стрежевой    5\n",
            "                                     Ломоносов    5\n",
            "                                          Азов    5\n",
            "                                         Жуков    5\n",
            "                                    Нарьян-Мар    5\n",
            "                                       Кодинск    5\n",
            "                         Железногорск-Илимский    5\n",
            "                                        Щекино    5\n",
            "                                           Обь    5\n",
            "                                       Бодайбо    5\n",
            "                                     Жезказган    4\n",
            "                                       Кутаиси    4\n",
            "                                       Австрия    4\n",
            "                                       Сарапул    4\n",
            "                            Акташ (Узбекистан)    4\n",
            "                  Кировск (Мурманская область)    4\n",
            "                                        Крымск    4\n",
            "                                          Ужур    4\n",
            "            Красноармейск (Московская область)    4\n",
            "                                      Бугульма    4\n",
            "                                 Малоярославец    4\n",
            "                                   Дзержинский    4\n",
            "                                         Канск    4\n",
            "            Березовский (Свердловская область)    4\n",
            "                                      Каспийск    4\n",
            "                                    Костомукша    4\n",
            "                              Усолье-Сибирское    4\n",
            "                                    Муравленко    4\n",
            "                                      Богучаны    4\n",
            "                                          Лида    4\n",
            "                  Ростов (Ярославская область)    4\n",
            "              Строитель (Белгородская область)    4\n",
            "                                       Испания    4\n",
            "                                   Таджикистан    4\n",
            "                                      Феодосия    4\n",
            "                                   Забайкальск    4\n",
            "                                      Голицыно    4\n",
            "                                  Борисоглебск    4\n",
            "                                    Черняховск    4\n",
            "                                        Кириши    4\n",
            "                                     Туркестан    4\n",
            "            Михайловка (Волгоградская область)    4\n",
            "                                   Воскресенск    4\n",
            "                                        Кашира    4\n",
            "                                     Кропоткин    4\n",
            "                                       Елизово    4\n",
            "                            Славянск-на-Кубани    4\n",
            "                                    Алексеевка    4\n",
            "                                   Менделеевск    4\n",
            "                                   Краснокамск    4\n",
            "                                   Еманжелинск    4\n",
            "                                     Молодечно    4\n",
            "               Кировск (Ленинградская область)    4\n",
            "                                     Минусинск    4\n",
            "                  Троицк (Челябинская область)    4\n",
            "                                         Гусев    4\n",
            "                                      Петергоф    4\n",
            "                                       Заринск    4\n",
            "                                       Дербент    4\n",
            "                                    Черногорск    4\n",
            "                                        Тихвин    4\n",
            "              Михайловск (Ставропольский край)    4\n",
            "                                       Ефремов    4\n",
            "                                 Среднеуральск    4\n",
            "                                       Софрино    4\n",
            "                  Отрадный (Самарская область)    4\n",
            "                                        Волхов    4\n",
            "                                     Тазовский    4\n",
            "                                     Кронштадт    3\n",
            "                                         Пинск    3\n",
            "                                          Энем    3\n",
            "                                        Алушта    3\n",
            "                                    Пойковский    3\n",
            "                                     Заозерный    3\n",
            "                                     Усть-Луга    3\n",
            "                               Анжеро-Судженск    3\n",
            "                                        Тайшет    3\n",
            "                                       Коркино    3\n",
            "                                        Торжок    3\n",
            "                                         Учалы    3\n",
            "                                      Лебедянь    3\n",
            "                                       Донской    3\n",
            "                                    Курганинск    3\n",
            "                                     Апрелевка    3\n",
            "                                     Полевской    3\n",
            "                                         Тайга    3\n",
            "                                       Туймазы    3\n",
            "                                      Капчагай    3\n",
            "                                   Усть-Илимск    3\n",
            "                                        Сегежа    3\n",
            "                                    Ялуторовск    3\n",
            "                                    Сестрорецк    3\n",
            "                                     Колпашево    3\n",
            "                                         Кашин    3\n",
            "                                     Киселевск    3\n",
            "                               Динская станица    3\n",
            "                                       Ишимбай    3\n",
            "                                      Назарово    3\n",
            "           Краснознаменск (Московская область)    3\n",
            "                Мирный (Архангельская область)    3\n",
            "                                       Джанкой    3\n",
            "                                    Бугуруслан    3\n",
            "                                         Борзя    3\n",
            "                                  Красное Село    3\n",
            "                                     Сертолово    3\n",
            "                                        Тамань    3\n",
            "                          Дзержинск (Беларусь)    3\n",
            "                                      Афипский    3\n",
            "                 Климовск (Московская область)    3\n",
            "                                     Тимашевск    3\n",
            "                  Озерск (Челябинская область)    3\n",
            "                                       Белебей    3\n",
            "                                       Петушки    3\n",
            "                                      Томилино    3\n",
            "                                   Североморск    3\n",
            "                                          Орша    3\n",
            "                 Развилка (Московская область)    3\n",
            "                                        Пушкин    3\n",
            "                                      Таштагол    3\n",
            "             Новотроицк (Оренбургская область)    3\n",
            "                                       Мамадыш    3\n",
            "                            Павловская Слобода    3\n",
            "                                       Кузнецк    3\n",
            "                                       Лабинск    3\n",
            "                                       Кинешма    3\n",
            "                                        Кинель    3\n",
            "                                     Жигулевск    3\n",
            "                   Донецк (Ростовская область)    3\n",
            "                                     Солигорск    3\n",
            "                                    Новодвинск    3\n",
            "                                       Чусовой    3\n",
            "                                    Балабаново    3\n",
            "            Гурьевск (Калининградская область)    3\n",
            "                                        Сланцы    3\n",
            "                                      Щербинка    3\n",
            "                                    Десногорск    3\n",
            "                                       Эстония    3\n",
            "                                   Лесосибирск    3\n",
            "                                    Дивногорск    3\n",
            "                           Вольно-Надеждинское    3\n",
            "                                      Кулебаки    3\n",
            "                                      Сафоново    3\n",
            "                                 Североуральск    2\n",
            "                                       Балахна    2\n",
            "                                         Сатка    2\n",
            "                                       Лакинск    2\n",
            "                                     Сухой Лог    2\n",
            "                                        Коканд    2\n",
            "                                       Тучково    2\n",
            "                                    Тахтамукай    2\n",
            "                                    Бахчисарай    2\n",
            "                                       Ильский    2\n",
            "                                      Рославль    2\n",
            "                                        Мегион    2\n",
            "                                       Власиха    2\n",
            "               Яблоновский (Республика Адыгея)    2\n",
            "                                       Пангоды    2\n",
            "                                     Ясногорск    2\n",
            "                                         Индия    2\n",
            "                                            Ош    2\n",
            "                                      Оболенск    2\n",
            "                                Спасск-Дальний    2\n",
            "                                         Грязи    2\n",
            "                                       Кимовск    2\n",
            "                                       Боготол    2\n",
            "                                        Покров    2\n",
            "                                       Снегири    2\n",
            "                                      Снежинск    2\n",
            "                                       Израиль    2\n",
            "                                  Заводоуковск    2\n",
            "                                       Шерегеш    2\n",
            "                                    Новополоцк    2\n",
            "                                       Вязники    2\n",
            "                                         Шарья    2\n",
            "                                     Полысаево    2\n",
            "                                       Боровск    2\n",
            "                                       Воркута    2\n",
            "                                        Талгар    2\n",
            "                                         Кимры    2\n",
            "                                   Нижняя Тура    2\n",
            "                                        Полоцк    2\n",
            "                               Горки Ленинские    2\n",
            "                                      Буйнакск    2\n",
            "                                Великобритания    2\n",
            "                                    Белокуриха    2\n",
            "                                     Камешково    2\n",
            "                                    Нидерланды    2\n",
            "                                         Сибай    2\n",
            "                  Раевский (Альшеевский район)    2\n",
            "                                       Кудрово    2\n",
            "             Некрасовский (Московская область)    2\n",
            "                                        Вязьма    2\n",
            "             Советск (Калининградская область)    2\n",
            "                     Фокино (Брянская область)    2\n",
            "                                          Ейск    2\n",
            "                 Заречный (Пензенская область)    2\n",
            "                                         Канаш    2\n",
            "                Рощино (Ленинградская область)    2\n",
            "                                      Знаменск    2\n",
            "                                    Московский    2\n",
            "                                        Рудный    2\n",
            "                                          Кола    2\n",
            "                                       Зарайск    2\n",
            "                                 Верхний Мамон    2\n",
            "                Белый Яр (Ханты-Мансийский АО)    2\n",
            "                                   Давлеканово    2\n",
            "                                       Павлово    2\n",
            "                                      Кондрово    2\n",
            "                                     Вихоревка    2\n",
            "                                       Выселки    2\n",
            "                                     Кореновск    2\n",
            "                                        Ярцево    2\n",
            "               Заречный (Свердловская область)    2\n",
            "                                     Понежукай    2\n",
            "                                       Валуйки    2\n",
            "                                        Иглино    2\n",
            "                                       Дюртюли    2\n",
            "                                   Нижнеудинск    2\n",
            "               Зеленогорск (Ленинградская обл)    2\n",
            "             Березовский (Кемеровская область)    2\n",
            "                Линево (Новосибирская область)    2\n",
            "                                  Электрогорск    2\n",
            "                Троицкое (Сахалинская область)    2\n",
            "                                     Приозерск    2\n",
            "                                     Мичуринск    2\n",
            "                                Краснотурьинск    2\n",
            "                                      Крекшино    2\n",
            "                                    Приаргунск    2\n",
            "                                        Котлас    2\n",
            "                                       Россошь    2\n",
            "                              Гусь-Хрустальный    2\n",
            "                                       Судогда    2\n",
            "                                         Топки    2\n",
            "                                       Фролово    2\n",
            "                     Софьино (Раменский район)    2\n",
            "                                     Калачинск    2\n",
            "                   Агинское (Забайкальский АО)    2\n",
            "                                        Киржач    2\n",
            "                                     Шушенское    2\n",
            "                                        Удомля    2\n",
            "                                      Курчатов    2\n",
            "                                      Карпинск    2\n",
            "                                    Черепаново    2\n",
            "                                        Беслан    2\n",
            "                                          Ишим    2\n",
            "                                        Мценск    2\n",
            "                   Балахта (Красноярский край)    2\n",
            "                                     Далматово    1\n",
            "                                      Гудермес    1\n",
            "                                         Китай    1\n",
            "                                    Звенигород    1\n",
            "         Северо-Енисейский (Красноярский край)    1\n",
            "                                        Кобрин    1\n",
            "                                      Кирсанов    1\n",
            "                                      Пересвет    1\n",
            "                                       Пестово    1\n",
            "                                     Индонезия    1\n",
            "                                Красная Поляна    1\n",
            "                                 Красный Сулин    1\n",
            "                                     Сергиевск    1\n",
            "                                         Пласт    1\n",
            "                                      Камышлов    1\n",
            "                                   Электроугли    1\n",
            "                                         Урень    1\n",
            "               Радужный (Владимирская область)    1\n",
            "                                  Железноводск    1\n",
            "                                   Вольгинский    1\n",
            "                                   Похвистнево    1\n",
            "                                       Аликово    1\n",
            "                                      Курагино    1\n",
            "                               Северобайкальск    1\n",
            "                                     Дорогобуж    1\n",
            "                                      Приютово    1\n",
            "                                          Юрга    1\n",
            "                                      Коммунар    1\n",
            "                                       Бологое    1\n",
            "                                        Валдай    1\n",
            "           Петропавловка (Воронежская область)    1\n",
            "                                  Отеген-Батыр    1\n",
            "                                         Палех    1\n",
            "                                  Нижние Серги    1\n",
            "                                         Ирбит    1\n",
            "                      Уват (Тюменская область)    1\n",
            "                                       Актогай    1\n",
            "                                  Шлиссельбург    1\n",
            "                                    Тбилисская    1\n",
            "                                    Коммунарка    1\n",
            "                                   Степногорск    1\n",
            "            Артемовский (Свердловская область)    1\n",
            "                                      Саракташ    1\n",
            "                              Нерчинский Завод    1\n",
            "                                 Верхняя Салда    1\n",
            "                                       Уренгой    1\n",
            "                                     Апшеронск    1\n",
            "                                       Фергана    1\n",
            "                                        Лысьва    1\n",
            "                                    Слободской    1\n",
            "                                        Сергач    1\n",
            "Михнево (Московская область, Ступинский район)    1\n",
            "                                           Буй    1\n",
            "                                          Луга    1\n",
            "                Малаховка (Московская область)    1\n",
            "                                      Жирновск    1\n",
            "                                      Цивильск    1\n",
            "                              Большое Сорокино    1\n",
            "                                        Шушары    1\n",
            "                                    Мензелинск    1\n",
            "                                        Кугеси    1\n",
            "           Красногорский (Челябинская область)    1\n",
            "                                        Вуктыл    1\n",
            "              Приморск (Ленинградская область)    1\n",
            "                                 Дальнереченск    1\n",
            "                                       Макинск    1\n",
            "                                      Сарыагаш    1\n",
            "                                          Куса    1\n",
            "                                          Руза    1\n",
            "                                  Риддер (ВКО)    1\n",
            "                                      Тихорецк    1\n",
            "                                     Карымское    1\n",
            "              Павловск (Ленинградская область)    1\n",
            "                                         Себеж    1\n",
            "                                      Лангепас    1\n",
            "                                      Сердобск    1\n",
            "                                   Таврическое    1\n",
            "                                      Хотьково    1\n",
            "                                    Усть-Катав    1\n",
            "                                        Ивдель    1\n",
            "                                        Сальск    1\n",
            "                                    Краснообск    1\n",
            "                                       Винзили    1\n",
            "                                     Чебаркуль    1\n",
            "                                    Рассказово    1\n",
            "                Заполярный (Ямало-Ненецкий АО)    1\n",
            "                                          Урай    1\n",
            "                                         Сорск    1\n",
            "                                          Кемь    1\n",
            "                                        Эртиль    1\n",
            "                                        Нягань    1\n",
            "                                      Шахтинск    1\n",
            "                                     Богородск    1\n",
            "                                     Кировград    1\n",
            "                                       Румыния    1\n",
            "                                      Иланский    1\n",
            "                                        Иловля    1\n",
            "                                     Излучинск    1\n",
            "                                    Буденновск    1\n",
            "                                        Сириус    1\n",
            "                                      Селятино    1\n",
            "                                      Навашино    1\n",
            "                                 Новоульяновск    1\n",
            "            Петропавловка (Республика Бурятия)    1\n",
            "                                    Богородицк    1\n",
            "                        Петровск-Забайкальский    1\n",
            "                                   Адыге-Хабль    1\n",
            "                                         Надым    1\n",
            "                    Красное (Липецкая область)    1\n",
            "                                          Саки    1\n",
            "                      Фокино (Приморский край)    1\n",
            "                                   Сковородино    1\n",
            "                                      Заволжье    1\n",
            "                                      Кумертау    1\n",
            "                 Дорохово (Московская область)    1\n",
            "                  Хомутово (Иркутская область)    1\n",
            "                                         Ливны    1\n",
            "                                         Навои    1\n",
            "                                      Баргузин    1\n",
            "                                          Абан    1\n",
            "                                        Покачи    1\n",
            "                                        Баймак    1\n",
            "                                       Карасук    1\n",
            "                                       Бердяуш    1\n",
            "                                      Енисейск    1\n",
            "                                  Горячий Ключ    1\n",
            "                                  Новая Усмань    1\n",
            "                      Тура (Красноярский край)    1\n",
            "                                        Мелеуз    1\n",
            "                                   Казачинское    1\n",
            "                                    Новогрудок    1\n",
            "                                           Бор    1\n",
            "                                      Абдулино    1\n",
            "                                       Богучар    1\n",
            "                                   Новохопёрск    1\n",
            "                                    Лабытнанги    1\n",
            "                                      Белорецк    1\n",
            "                                Большие Вязёмы    1\n",
            "                                  Нижний Ломов    1\n",
            "                                     Закаменск    1\n",
            "                                        Береза    1\n",
            "                                      Могойтуй    1\n",
            "          Первомайское (Ленинградская область)    1\n",
            "                                     Белоусово    1\n",
            "                                        Монино    1\n",
            "                                    Изобильный    1\n",
            "                                       Абхазия    1\n",
            "                Нефтегорск (Самарская область)    1\n",
            "                                     Ахтубинск    1\n",
            "                                    Райчихинск    1\n",
            "                                      Шарыпово    1\n",
            "                                     Верх-Тула    1\n",
            "                                       Тербуны    1\n",
            "                                         Ленск    1\n",
            "                                         Калач    1\n",
            "                                      Осташков    1\n",
            "                                        Джизак    1\n",
            "                                         Можга    1\n",
            "                                Елизаветинская    1\n",
            "                                       Мурмаши    1\n",
            "                Шахтерск (Сахалинская область)    1\n",
            "                                      Пикалево    1\n",
            "                                       Тогучин    1\n",
            "                                      Семилуки    1\n",
            "                                   Белореченск    1\n",
            "                               Новотитаровская    1\n",
            "                                       Городец    1\n",
            "                                      Рузаевка    1\n",
            "                                        Балхаш    1\n",
            "                              Старотитаровская    1\n",
            "                                      Берёзово    1\n",
            "                                      Словакия    1\n",
            "                                       Шумерля    1\n",
            "                                        Кизляр    1\n",
            "                                      Урюпинск    1\n",
            "                                        Невель    1\n",
            "                                      Нерчинск    1\n",
            "             Белоозёрский (Московская область)    1\n",
            "                             Сунжа (Ингушетия)    1\n",
            "                                        Амурск    1\n",
            "                                            Яя    1\n",
            "                                   Гаврилов-Ям    1\n",
            "                                     Духовщина    1\n",
            "                                      Невьянск    1\n",
            "                                        Лянтор    1\n",
            "                                Старая Купавна    1\n",
            "                                      Арсеньев    1\n",
            "                                 Ликино-Дулево    1\n",
            "                                    Тарко-Сале    1\n",
            "                                 Новоаннинский    1\n",
            "                                         Бирск    1\n",
            "                                        Сасово    1\n",
            "                                          Анна    1\n",
            "\n",
            "Всего регионов: 769\n",
            "Всего вакансий: 49197\n",
            "\n",
            "Топ-5 регионов по количеству вакансий:\n",
            "         region  cnt\n",
            "         Москва 5333\n",
            "Санкт-Петербург 2851\n",
            "          Минск 2112\n",
            "    Новосибирск 2006\n",
            "         Алматы 1892\n",
            "\n",
            "Подключение закрыто\n"
          ]
        },
        {
          "name": "stderr",
          "output_type": "stream",
          "text": [
            "C:\\Users\\Владимир\\AppData\\Local\\Temp\\ipykernel_20136\\4053332824.py:3: UserWarning: pandas only supports SQLAlchemy connectable (engine/connection) or database string URI or sqlite3 DBAPI2 connection. Other DBAPI2 objects are not tested. Please consider using SQLAlchemy.\n",
            "  df = pd.read_sql_query(query, connection)\n"
          ]
        }
      ],
      "source": [
        "#результат запроса\n",
        "# Выполняем запрос\n",
        "df = pd.read_sql_query(query, connection)\n",
        "\n",
        "print(\"Количество вакансий по регионам:\")\n",
        "print(df.to_string(index=False))\n",
        "\n",
        "# Дополнительная информация\n",
        "print(f\"\\nВсего регионов: {len(df)}\")\n",
        "print(f\"Всего вакансий: {df['cnt'].sum()}\")\n",
        "print(f\"\\nТоп-5 регионов по количеству вакансий:\")\n",
        "print(df.head(5).to_string(index=False))\n",
        "\n",
        "# Закрываем подключение\n",
        "connection.close()\n",
        "print(\"\\nПодключение закрыто\")"
      ]
    },
    {
      "cell_type": "markdown",
      "id": "4266f0b6-1646-492a-88b4-2f6a46502135",
      "metadata": {
        "id": "4266f0b6-1646-492a-88b4-2f6a46502135"
      },
      "source": [
        "2. Напишите запрос, чтобы определить у какого количества вакансий заполнено хотя бы одно из двух полей с зарплатой."
      ]
    },
    {
      "cell_type": "code",
      "execution_count": 40,
      "id": "0c44b350-72eb-4d65-8b54-a1fc449ba9fd",
      "metadata": {
        "id": "0c44b350-72eb-4d65-8b54-a1fc449ba9fd"
      },
      "outputs": [],
      "source": [
        "# текст запроса\n",
        "import pandas as pd\n",
        "import psycopg2\n",
        "from psycopg2 import OperationalError\n",
        "\n",
        "# Параметры подключения\n",
        "DBNAME = 'project_sql'\n",
        "USER = 'skillfactory'\n",
        "PASSWORD = 'cCkxxLVrDE8EbvjueeMedPKt'\n",
        "HOST = '84.201.134.129'\n",
        "PORT = 5432\n",
        "\n",
        "# Подключение к базе данных\n",
        "connection = psycopg2.connect(\n",
        "    dbname=DBNAME,\n",
        "    user=USER,\n",
        "    password=PASSWORD,\n",
        "    host=HOST,\n",
        "    port=PORT\n",
        ")\n",
        "\n",
        "# Запрос для подсчета вакансий с заполненной зарплатой\n",
        "query_salary = \"\"\"\n",
        "SELECT \n",
        "    COUNT(*) AS vacancies_with_salary,\n",
        "    (SELECT COUNT(*) FROM vacancies) AS total_vacancies,\n",
        "    ROUND(COUNT(*) * 100.0 / (SELECT COUNT(*) FROM vacancies), 2) AS percentage_with_salary\n",
        "FROM vacancies\n",
        "WHERE salary_from IS NOT NULL OR salary_to IS NOT NULL;\n",
        "\"\"\""
      ]
    },
    {
      "cell_type": "code",
      "execution_count": 41,
      "id": "rhvwaMDkoWTi",
      "metadata": {
        "id": "rhvwaMDkoWTi"
      },
      "outputs": [
        {
          "name": "stdout",
          "output_type": "stream",
          "text": [
            "Статистика по вакансиям с указанной зарплатой:\n",
            "==================================================\n",
            "Вакансий с указанной зарплатой: 24073\n",
            "Общее количество вакансий: 49197\n",
            "Процент вакансий с зарплатой: 48.93%\n",
            "\n",
            "Подключение закрыто\n"
          ]
        },
        {
          "name": "stderr",
          "output_type": "stream",
          "text": [
            "C:\\Users\\Владимир\\AppData\\Local\\Temp\\ipykernel_20136\\4071678570.py:2: UserWarning: pandas only supports SQLAlchemy connectable (engine/connection) or database string URI or sqlite3 DBAPI2 connection. Other DBAPI2 objects are not tested. Please consider using SQLAlchemy.\n",
            "  df_salary = pd.read_sql_query(query_salary, connection)\n"
          ]
        }
      ],
      "source": [
        "# результат запроса\n",
        "df_salary = pd.read_sql_query(query_salary, connection)\n",
        "\n",
        "print(\"Статистика по вакансиям с указанной зарплатой:\")\n",
        "print(\"=\" * 50)\n",
        "print(f\"Вакансий с указанной зарплатой: {df_salary['vacancies_with_salary'].iloc[0]}\")\n",
        "print(f\"Общее количество вакансий: {df_salary['total_vacancies'].iloc[0]}\")\n",
        "print(f\"Процент вакансий с зарплатой: {df_salary['percentage_with_salary'].iloc[0]}%\")\n",
        "# Закрываем подключение\n",
        "connection.close()\n",
        "print(\"\\nПодключение закрыто\")"
      ]
    },
    {
      "cell_type": "markdown",
      "id": "635c4d5d-f323-4c66-b428-50a088120aa0",
      "metadata": {
        "id": "635c4d5d-f323-4c66-b428-50a088120aa0"
      },
      "source": [
        "3. Найдите средние значения для нижней и верхней границы зарплатной вилки. Округлите значения до целого."
      ]
    },
    {
      "cell_type": "code",
      "execution_count": 43,
      "id": "603cdbe4-0ec3-4106-8eaf-c73fcdd29165",
      "metadata": {
        "id": "603cdbe4-0ec3-4106-8eaf-c73fcdd29165"
      },
      "outputs": [],
      "source": [
        "# текст запроса\n",
        "import pandas as pd\n",
        "import psycopg2\n",
        "from psycopg2 import OperationalError\n",
        "\n",
        "# Параметры подключения\n",
        "DBNAME = 'project_sql'\n",
        "USER = 'skillfactory'\n",
        "PASSWORD = 'cCkxxLVrDE8EbvjueeMedPKt'\n",
        "HOST = '84.201.134.129'\n",
        "PORT = 5432\n",
        "\n",
        "# Подключение к базе данных\n",
        "connection = psycopg2.connect(\n",
        "    dbname=DBNAME,\n",
        "    user=USER,\n",
        "    password=PASSWORD,\n",
        "    host=HOST,\n",
        "    port=PORT\n",
        ")\n",
        "\n",
        "# Запрос для расчета средних значений зарплатной вилки\n",
        "query_avg_salary = \"\"\"\n",
        "SELECT \n",
        "    ROUND(AVG(salary_from)) AS avg_salary_from,\n",
        "    ROUND(AVG(salary_to)) AS avg_salary_to,\n",
        "    COUNT(*) FILTER (WHERE salary_from IS NOT NULL) AS count_with_from,\n",
        "    COUNT(*) FILTER (WHERE salary_to IS NOT NULL) AS count_with_to,\n",
        "    COUNT(*) FILTER (WHERE salary_from IS NOT NULL AND salary_to IS NOT NULL) AS count_with_both\n",
        "FROM vacancies\n",
        "WHERE salary_from IS NOT NULL OR salary_to IS NOT NULL;\n",
        "\"\"\""
      ]
    },
    {
      "cell_type": "code",
      "execution_count": 44,
      "id": "pswpAb66ovZZ",
      "metadata": {
        "id": "pswpAb66ovZZ"
      },
      "outputs": [
        {
          "name": "stdout",
          "output_type": "stream",
          "text": [
            "Средние значения зарплатной вилки:\n",
            "==================================================\n",
            "Средняя нижняя граница зарплаты (от): 71065 руб.\n",
            "Средняя верхняя граница зарплаты (до): 110537 руб.\n",
            "Разница между средними значениями: 39472 руб.\n",
            "\n",
            "Статистика заполнения:\n",
            "==================================================\n",
            "Вакансий с указанной зарплатой 'от': 21485\n",
            "Вакансий с указанной зарплатой 'до': 12690\n",
            "Вакансий с обеими границами зарплаты: 10102\n",
            "\n",
            "Подключение закрыто\n"
          ]
        },
        {
          "name": "stderr",
          "output_type": "stream",
          "text": [
            "C:\\Users\\Владимир\\AppData\\Local\\Temp\\ipykernel_20136\\709757517.py:2: UserWarning: pandas only supports SQLAlchemy connectable (engine/connection) or database string URI or sqlite3 DBAPI2 connection. Other DBAPI2 objects are not tested. Please consider using SQLAlchemy.\n",
            "  df_avg_salary = pd.read_sql_query(query_avg_salary, connection)\n"
          ]
        }
      ],
      "source": [
        "# результат запроса\n",
        "df_avg_salary = pd.read_sql_query(query_avg_salary, connection)\n",
        "\n",
        "print(\"Средние значения зарплатной вилки:\")\n",
        "print(\"=\" * 50)\n",
        "print(f\"Средняя нижняя граница зарплаты (от): {int(df_avg_salary['avg_salary_from'].iloc[0])} руб.\")\n",
        "print(f\"Средняя верхняя граница зарплаты (до): {int(df_avg_salary['avg_salary_to'].iloc[0])} руб.\")\n",
        "print(f\"Разница между средними значениями: {int(df_avg_salary['avg_salary_to'].iloc[0] - df_avg_salary['avg_salary_from'].iloc[0])} руб.\")\n",
        "\n",
        "print(\"\\nСтатистика заполнения:\")\n",
        "print(\"=\" * 50)\n",
        "print(f\"Вакансий с указанной зарплатой 'от': {df_avg_salary['count_with_from'].iloc[0]}\")\n",
        "print(f\"Вакансий с указанной зарплатой 'до': {df_avg_salary['count_with_to'].iloc[0]}\")\n",
        "print(f\"Вакансий с обеими границами зарплаты: {df_avg_salary['count_with_both'].iloc[0]}\")\n",
        "# Закрываем подключение\n",
        "connection.close()\n",
        "print(\"\\nПодключение закрыто\")"
      ]
    },
    {
      "cell_type": "markdown",
      "id": "f3fdaec9-5fd3-4260-9cf5-1d7406b628a5",
      "metadata": {
        "id": "f3fdaec9-5fd3-4260-9cf5-1d7406b628a5"
      },
      "source": [
        "4. Напишите запрос, который выведет количество вакансий для каждого сочетания типа рабочего графика (schedule) и типа трудоустройства (employment), используемого в вакансиях. Результат отсортируйте по убыванию количества.\n"
      ]
    },
    {
      "cell_type": "code",
      "execution_count": 51,
      "id": "1ea710ec-871b-431e-9462-c7d0fd87011b",
      "metadata": {
        "id": "1ea710ec-871b-431e-9462-c7d0fd87011b"
      },
      "outputs": [],
      "source": [
        "# текст запроса\n",
        "import pandas as pd\n",
        "import psycopg2\n",
        "from psycopg2 import OperationalError\n",
        "\n",
        "# Параметры подключения\n",
        "DBNAME = 'project_sql'\n",
        "USER = 'skillfactory'\n",
        "PASSWORD = 'cCkxxLVrDE8EbvjueeMedPKt'\n",
        "HOST = '84.201.134.129'\n",
        "PORT = 5432\n",
        "\n",
        "# Подключение к базе данных\n",
        "connection = psycopg2.connect(\n",
        "    dbname=DBNAME,\n",
        "    user=USER,\n",
        "    password=PASSWORD,\n",
        "    host=HOST,\n",
        "    port=PORT\n",
        ")\n",
        "\n",
        "# Запрос для анализа сочетаний графика работы и типа трудоустройства\n",
        "query = \"\"\"\n",
        "SELECT \n",
        "    schedule,\n",
        "    employment,\n",
        "    COUNT(*) AS vacancy_count\n",
        "FROM vacancies\n",
        "GROUP BY schedule, employment\n",
        "ORDER BY vacancy_count DESC;\n",
        "\"\"\""
      ]
    },
    {
      "cell_type": "code",
      "execution_count": 52,
      "id": "lGUVqavdo4JQ",
      "metadata": {
        "id": "lGUVqavdo4JQ"
      },
      "outputs": [
        {
          "name": "stdout",
          "output_type": "stream",
          "text": [
            "Количество вакансий по сочетаниям графика работы и типа трудоустройства:\n",
            "======================================================================\n",
            "График работы        Тип трудоустройства       Количество  \n",
            "----------------------------------------------------------------------\n",
            "Полный день          Полная занятость          35367       \n",
            "Удаленная работа     Полная занятость          7802        \n",
            "Гибкий график        Полная занятость          1593        \n",
            "Удаленная работа     Частичная занятость       1312        \n",
            "Сменный график       Полная занятость          940         \n",
            "Полный день          Стажировка                569         \n",
            "Вахтовый метод       Полная занятость          367         \n",
            "Полный день          Частичная занятость       347         \n",
            "Гибкий график        Частичная занятость       312         \n",
            "Полный день          Проектная работа          141         \n",
            "Удаленная работа     Проектная работа          133         \n",
            "Гибкий график        Стажировка                116         \n",
            "Сменный график       Частичная занятость       101         \n",
            "Удаленная работа     Стажировка                64          \n",
            "Гибкий график        Проектная работа          18          \n",
            "Сменный график       Стажировка                12          \n",
            "Вахтовый метод       Проектная работа          2           \n",
            "Сменный график       Проектная работа          1           \n",
            "\n",
            "Подключение закрыто\n"
          ]
        },
        {
          "name": "stderr",
          "output_type": "stream",
          "text": [
            "C:\\Users\\Владимир\\AppData\\Local\\Temp\\ipykernel_20136\\2646843038.py:2: UserWarning: pandas only supports SQLAlchemy connectable (engine/connection) or database string URI or sqlite3 DBAPI2 connection. Other DBAPI2 objects are not tested. Please consider using SQLAlchemy.\n",
            "  df = pd.read_sql_query(query, connection)\n"
          ]
        }
      ],
      "source": [
        "# результат запроса\n",
        "df = pd.read_sql_query(query, connection)\n",
        "\n",
        "print(\"Количество вакансий по сочетаниям графика работы и типа трудоустройства:\")\n",
        "print(\"=\" * 70)\n",
        "print(f\"{'График работы':<20} {'Тип трудоустройства':<25} {'Количество':<12}\")\n",
        "print(\"-\" * 70)\n",
        "\n",
        "for _, row in df.iterrows():\n",
        "    print(f\"{row['schedule']:<20} {row['employment']:<25} {row['vacancy_count']:<12}\")\n",
        "\n",
        "# Закрываем подключение\n",
        "connection.close()\n",
        "print(\"\\nПодключение закрыто\")"
      ]
    },
    {
      "cell_type": "markdown",
      "id": "0136ffee-0ead-4a6b-b608-61d1c753a438",
      "metadata": {
        "id": "0136ffee-0ead-4a6b-b608-61d1c753a438"
      },
      "source": [
        "5. Напишите запрос, выводящий значения поля Требуемый опыт работы (experience) в порядке возрастания количества вакансий, в которых указан данный вариант опыта. "
      ]
    },
    {
      "cell_type": "code",
      "execution_count": 53,
      "id": "5b3a8e79-f7ab-4008-b767-12aea3a205ea",
      "metadata": {
        "id": "5b3a8e79-f7ab-4008-b767-12aea3a205ea"
      },
      "outputs": [],
      "source": [
        "# текст запроса\n",
        "import pandas as pd\n",
        "import psycopg2\n",
        "from psycopg2 import OperationalError\n",
        "\n",
        "# Параметры подключения\n",
        "DBNAME = 'project_sql'\n",
        "USER = 'skillfactory'\n",
        "PASSWORD = 'cCkxxLVrDE8EbvjueeMedPKt'\n",
        "HOST = '84.201.134.129'\n",
        "PORT = 5432\n",
        "\n",
        "# Подключение к базе данных\n",
        "connection = psycopg2.connect(\n",
        "    dbname=DBNAME,\n",
        "    user=USER,\n",
        "    password=PASSWORD,\n",
        "    host=HOST,\n",
        "    port=PORT\n",
        ")\n",
        "\n",
        "# Запрос для анализа требуемого опыта работы\n",
        "query = \"\"\"\n",
        "SELECT \n",
        "    experience,\n",
        "    COUNT(*) AS vacancy_count\n",
        "FROM vacancies\n",
        "GROUP BY experience\n",
        "ORDER BY vacancy_count ASC;\n",
        "\"\"\""
      ]
    },
    {
      "cell_type": "code",
      "execution_count": 54,
      "id": "3Is64Y-hpDpq",
      "metadata": {
        "id": "3Is64Y-hpDpq"
      },
      "outputs": [
        {
          "name": "stdout",
          "output_type": "stream",
          "text": [
            "Требуемый опыт работы в порядке возрастания количества вакансий:\n",
            "============================================================\n",
            "Опыт работы               Количество вакансий \n",
            "------------------------------------------------------------\n",
            "Более 6 лет               1337                \n",
            "Нет опыта                 7197                \n",
            "От 3 до 6 лет             14511               \n",
            "От 1 года до 3 лет        26152               \n",
            "\n",
            "Общее количество вакансий: 49197\n",
            "Уникальных вариантов опыта: 4\n",
            "\n",
            "Подключение закрыто\n"
          ]
        },
        {
          "name": "stderr",
          "output_type": "stream",
          "text": [
            "C:\\Users\\Владимир\\AppData\\Local\\Temp\\ipykernel_20136\\3295659531.py:2: UserWarning: pandas only supports SQLAlchemy connectable (engine/connection) or database string URI or sqlite3 DBAPI2 connection. Other DBAPI2 objects are not tested. Please consider using SQLAlchemy.\n",
            "  df = pd.read_sql_query(query, connection)\n"
          ]
        }
      ],
      "source": [
        "# результат запроса\n",
        "df = pd.read_sql_query(query, connection)\n",
        "\n",
        "print(\"Требуемый опыт работы в порядке возрастания количества вакансий:\")\n",
        "print(\"=\" * 60)\n",
        "print(f\"{'Опыт работы':<25} {'Количество вакансий':<20}\")\n",
        "print(\"-\" * 60)\n",
        "\n",
        "for _, row in df.iterrows():\n",
        "    print(f\"{row['experience']:<25} {row['vacancy_count']:<20}\")\n",
        "\n",
        "# Дополнительная статистика\n",
        "total_vacancies = df['vacancy_count'].sum()\n",
        "print(f\"\\nОбщее количество вакансий: {total_vacancies}\")\n",
        "print(f\"Уникальных вариантов опыта: {len(df)}\")\n",
        "\n",
        "# Закрываем подключение\n",
        "connection.close()\n",
        "print(\"\\nПодключение закрыто\")"
      ]
    },
    {
      "cell_type": "markdown",
      "id": "oq2b7n1QpIka",
      "metadata": {
        "id": "oq2b7n1QpIka"
      },
      "source": [
        "***"
      ]
    },
    {
      "cell_type": "markdown",
      "id": "9b907d53",
      "metadata": {},
      "source": [
        "### выводы по детальному анализу вакансий\n",
        "Географическое распределение вакансий показывает абсолютное лидерство Москвы (5333 вакансии), которая вдвое опережает Санкт-Петербург (2851). Присутствие в топ-5 Минска и Алматы свидетельствует о международном охвате базы данных. Зарплатная вилка демонстрирует значительный разброс - от 71 до 110 тысяч рублей, что указывает на гибкость работодателей в оплате труда.\n",
        "\n",
        "Рынок труда сохраняет традиционный характер: полная занятость доминирует (35367 вакансий), однако удаленная работа (7802) стала существенным сегментом. Наиболее востребованы специалисты среднего уровня с опытом 1-3 года (26152), while вакансий для senior-специалистов значительно меньше (1337). Высокий спрос на кандидатов без опыта (7197) отражает активность программ стажировок.\n",
        "\n"
      ]
    },
    {
      "cell_type": "markdown",
      "id": "7ea20ab6-04a7-40a0-adec-443a0e5a42c3",
      "metadata": {
        "id": "7ea20ab6-04a7-40a0-adec-443a0e5a42c3"
      },
      "source": [
        "# Юнит 5. Анализ работодателей"
      ]
    },
    {
      "cell_type": "markdown",
      "id": "968aed80-74ef-4ffb-b5bf-c65b84e9caea",
      "metadata": {
        "id": "968aed80-74ef-4ffb-b5bf-c65b84e9caea"
      },
      "source": [
        "1. Напишите запрос, который позволит узнать, какие работодатели находятся на первом и пятом месте по количеству вакансий."
      ]
    },
    {
      "cell_type": "code",
      "execution_count": 55,
      "id": "f2d62796-d400-4ec1-a675-88112739a50e",
      "metadata": {
        "id": "f2d62796-d400-4ec1-a675-88112739a50e"
      },
      "outputs": [],
      "source": [
        "# текст запроса\n",
        "import pandas as pd\n",
        "import psycopg2\n",
        "from psycopg2 import OperationalError\n",
        "\n",
        "# Параметры подключения\n",
        "DBNAME = 'project_sql'\n",
        "USER = 'skillfactory'\n",
        "PASSWORD = 'cCkxxLVrDE8EbvjueeMedPKt'\n",
        "HOST = '84.201.134.129'\n",
        "PORT = 5432\n",
        "\n",
        "# Подключение к базе данных\n",
        "connection = psycopg2.connect(\n",
        "    dbname=DBNAME,\n",
        "    user=USER,\n",
        "    password=PASSWORD,\n",
        "    host=HOST,\n",
        "    port=PORT\n",
        ")\n",
        "\n",
        "# Запрос для получения топ-5 работодателей по количеству вакансий\n",
        "query = \"\"\"\n",
        "SELECT \n",
        "    e.name AS employer_name,\n",
        "    COUNT(v.id) AS vacancy_count\n",
        "FROM vacancies v\n",
        "JOIN employers e ON v.employer_id = e.id\n",
        "GROUP BY e.name\n",
        "ORDER BY vacancy_count DESC\n",
        "LIMIT 5;\n",
        "\"\"\""
      ]
    },
    {
      "cell_type": "code",
      "execution_count": 56,
      "id": "64tOMkAxqkQk",
      "metadata": {
        "id": "64tOMkAxqkQk"
      },
      "outputs": [
        {
          "name": "stdout",
          "output_type": "stream",
          "text": [
            "Топ-5 работодателей по количеству вакансий:\n",
            "================================================================================\n",
            "Место  Работодатель                                       Количество вакансий \n",
            "--------------------------------------------------------------------------------\n",
            "1      Яндекс                                             1933                \n",
            "2      Ростелеком                                         491                 \n",
            "3      Тинькофф                                           444                 \n",
            "4      СБЕР                                               428                 \n",
            "5      Газпром нефть                                      331                 \n",
            "\n",
            "Первый место: Яндекс - 1933 вакансий\n",
            "Пятое место: Газпром нефть - 331 вакансий\n",
            "\n",
            "Общее количество вакансий у топ-5 работодателей: 3627\n",
            "\n",
            "Подключение закрыто\n"
          ]
        },
        {
          "name": "stderr",
          "output_type": "stream",
          "text": [
            "C:\\Users\\Владимир\\AppData\\Local\\Temp\\ipykernel_20136\\2232208689.py:2: UserWarning: pandas only supports SQLAlchemy connectable (engine/connection) or database string URI or sqlite3 DBAPI2 connection. Other DBAPI2 objects are not tested. Please consider using SQLAlchemy.\n",
            "  df = pd.read_sql_query(query, connection)\n"
          ]
        }
      ],
      "source": [
        "# результат запроса\n",
        "df = pd.read_sql_query(query, connection)\n",
        "\n",
        "print(\"Топ-5 работодателей по количеству вакансий:\")\n",
        "print(\"=\" * 80)\n",
        "print(f\"{'Место':<6} {'Работодатель':<50} {'Количество вакансий':<20}\")\n",
        "print(\"-\" * 80)\n",
        "\n",
        "for i, (_, row) in enumerate(df.iterrows(), 1):\n",
        "    print(f\"{i:<6} {row['employer_name']:<50} {row['vacancy_count']:<20}\")\n",
        "\n",
        "# Вывод конкретно первого и пятого места\n",
        "print(f\"\\nПервый место: {df['employer_name'].iloc[0]} - {df['vacancy_count'].iloc[0]} вакансий\")\n",
        "print(f\"Пятое место: {df['employer_name'].iloc[4]} - {df['vacancy_count'].iloc[4]} вакансий\")\n",
        "\n",
        "# Дополнительная статистика\n",
        "total_vacancies_top5 = df['vacancy_count'].sum()\n",
        "print(f\"\\nОбщее количество вакансий у топ-5 работодателей: {total_vacancies_top5}\")\n",
        "\n",
        "# Закрываем подключение\n",
        "connection.close()\n",
        "print(\"\\nПодключение закрыто\")"
      ]
    },
    {
      "cell_type": "markdown",
      "id": "68377cfc-b378-43dc-ab7d-1195abf2c515",
      "metadata": {
        "id": "68377cfc-b378-43dc-ab7d-1195abf2c515"
      },
      "source": [
        "2. Напишите запрос, который для каждого региона выведет количество работодателей и вакансий в нём.\n",
        "Среди регионов, в которых нет вакансий, найдите тот, в котором наибольшее количество работодателей.\n"
      ]
    },
    {
      "cell_type": "code",
      "execution_count": 7,
      "id": "dd7df27a-e3e8-412e-a21a-5d389b71e891",
      "metadata": {
        "id": "dd7df27a-e3e8-412e-a21a-5d389b71e891"
      },
      "outputs": [],
      "source": [
        "# текст запроса\n",
        "import pandas as pd\n",
        "import psycopg2\n",
        "from psycopg2 import OperationalError\n",
        "\n",
        "# Параметры подключения\n",
        "DBNAME = 'project_sql'\n",
        "USER = 'skillfactory'\n",
        "PASSWORD = 'cCkxxLVrDE8EbvjueeMedPKt'\n",
        "HOST = '84.201.134.129'\n",
        "PORT = 5432\n",
        "\n",
        "# Подключение к базе данных\n",
        "connection = psycopg2.connect(\n",
        "    dbname=DBNAME,\n",
        "    user=USER,\n",
        "    host=HOST,\n",
        "    password=PASSWORD,\n",
        "    port=PORT\n",
        ")\n",
        "\n",
        "# Оптимизированный запрос для нахождения региона без вакансий с наибольшим количеством работодателей\n",
        "query = '''\n",
        "WITH employers_by_region AS (\n",
        "    SELECT \n",
        "        e.area,\n",
        "        COUNT(*) as employers_count\n",
        "    FROM employers e\n",
        "    WHERE e.area IS NOT NULL\n",
        "    GROUP BY e.area\n",
        "),\n",
        "regions_with_vacancies AS (\n",
        "    SELECT DISTINCT area_id \n",
        "    FROM vacancies \n",
        "    WHERE area_id IS NOT NULL\n",
        ")\n",
        "SELECT \n",
        "    a.name AS region,\n",
        "    e.employers_count\n",
        "FROM employers_by_region e\n",
        "JOIN areas a ON e.area = a.id\n",
        "WHERE e.area NOT IN (SELECT area_id FROM regions_with_vacancies)\n",
        "ORDER BY e.employers_count DESC\n",
        "LIMIT 1\n",
        "'''"
      ]
    },
    {
      "cell_type": "code",
      "execution_count": 8,
      "id": "x1ikWbydrbf6",
      "metadata": {
        "id": "x1ikWbydrbf6"
      },
      "outputs": [
        {
          "name": "stdout",
          "output_type": "stream",
          "text": [
            "Регион без вакансий с наибольшим количеством работодателей: Россия\n",
            "Количество работодателей: 410\n",
            "\n",
            "Ответ: Россия\n",
            "\n",
            "Подключение закрыто\n"
          ]
        },
        {
          "name": "stderr",
          "output_type": "stream",
          "text": [
            "C:\\Users\\Владимир\\AppData\\Local\\Temp\\ipykernel_9656\\52923332.py:2: UserWarning: pandas only supports SQLAlchemy connectable (engine/connection) or database string URI or sqlite3 DBAPI2 connection. Other DBAPI2 objects are not tested. Please consider using SQLAlchemy.\n",
            "  df = pd.read_sql_query(query, connection)\n"
          ]
        }
      ],
      "source": [
        "# результат запроса\n",
        "df = pd.read_sql_query(query, connection)\n",
        "\n",
        "if not df.empty:\n",
        "    result = df.iloc[0]\n",
        "    print(f\"Регион без вакансий с наибольшим количеством работодателей: {result['region']}\")\n",
        "    print(f\"Количество работодателей: {result['employers_count']}\")\n",
        "    \n",
        "    # Ответ для ввода в поле\n",
        "    print(f\"\\nОтвет: {result['region']}\")\n",
        "else:\n",
        "    print(\"Регионов без вакансий с работодателями не найдено\")\n",
        "\n",
        "# Закрываем подключение\n",
        "connection.close()\n",
        "print(\"\\nПодключение закрыто\")"
      ]
    },
    {
      "cell_type": "markdown",
      "id": "f2fe0acb-ab1a-4e15-9326-2560e22d73c1",
      "metadata": {
        "id": "f2fe0acb-ab1a-4e15-9326-2560e22d73c1"
      },
      "source": [
        "3. Для каждого работодателя посчитайте количество регионов, в которых он публикует свои вакансии. Отсортируйте результат по убыванию количества.\n"
      ]
    },
    {
      "cell_type": "code",
      "execution_count": 9,
      "id": "6271f8ad-bd2e-4196-ae4a-5b39c4c1010e",
      "metadata": {
        "id": "6271f8ad-bd2e-4196-ae4a-5b39c4c1010e"
      },
      "outputs": [],
      "source": [
        "# текст запроса\n",
        "import pandas as pd\n",
        "import psycopg2\n",
        "from psycopg2 import OperationalError\n",
        "\n",
        "# Параметры подключения\n",
        "DBNAME = 'project_sql'\n",
        "USER = 'skillfactory'\n",
        "PASSWORD = 'cCkxxLVrDE8EbvjueeMedPKt'\n",
        "HOST = '84.201.134.129'\n",
        "PORT = 5432\n",
        "\n",
        "# Подключение к базе данных\n",
        "connection = psycopg2.connect(\n",
        "    dbname=DBNAME,\n",
        "    user=USER,\n",
        "    host=HOST,\n",
        "    password=PASSWORD,\n",
        "    port=PORT\n",
        ")\n",
        "\n",
        "# Запрос для подсчета количества регионов по каждому работодателю\n",
        "query = '''\n",
        "SELECT \n",
        "    e.name AS employer_name,\n",
        "    COUNT(DISTINCT v.area_id) AS regions_count\n",
        "FROM employers e\n",
        "JOIN vacancies v ON e.id = v.employer_id\n",
        "WHERE v.area_id IS NOT NULL\n",
        "GROUP BY e.name\n",
        "ORDER BY regions_count DESC\n",
        "'''"
      ]
    },
    {
      "cell_type": "code",
      "execution_count": 10,
      "id": "1EIvX3HasH4F",
      "metadata": {
        "id": "1EIvX3HasH4F"
      },
      "outputs": [
        {
          "name": "stderr",
          "output_type": "stream",
          "text": [
            "C:\\Users\\Владимир\\AppData\\Local\\Temp\\ipykernel_9656\\2303274670.py:3: UserWarning: pandas only supports SQLAlchemy connectable (engine/connection) or database string URI or sqlite3 DBAPI2 connection. Other DBAPI2 objects are not tested. Please consider using SQLAlchemy.\n",
            "  df = pd.read_sql_query(query, connection)\n"
          ]
        },
        {
          "name": "stdout",
          "output_type": "stream",
          "text": [
            "Количество регионов по работодателям:\n",
            "                 employer_name  regions_count\n",
            "0                       Яндекс            181\n",
            "1                   Ростелеком            152\n",
            "2                   Спецремонт            116\n",
            "3       Поляков Денис Иванович             88\n",
            "4                    ООО ЕФИН              71\n",
            "5                   Совкомбанк             63\n",
            "6                          МТС             55\n",
            "7   ЭФКО, Управляющая компания             49\n",
            "8                 Почта России             48\n",
            "9                         КРОН             48\n",
            "10                 ИК СИБИНТЕК             46\n",
            "11                       MCORE             46\n",
            "12             Сбербанк-Сервис             45\n",
            "13                       ANCOR             44\n",
            "14                    Тинькофф             43\n",
            "15                  Первый Бит             43\n",
            "16                       АЛНАС             41\n",
            "17                        Ozon             36\n",
            "18                         IBS             36\n",
            "19                       Авито             35\n",
            "\n",
            "Всего работодателей с вакансиями в регионах: 14766\n",
            "Максимальное количество регионов: 181\n",
            "Среднее количество регионов: 1.6\n",
            "\n",
            "Подключение закрыто\n"
          ]
        }
      ],
      "source": [
        "# результат запроса\n",
        "# результат запроса\n",
        "df = pd.read_sql_query(query, connection)\n",
        "print(\"Количество регионов по работодателям:\")\n",
        "print(df.head(20))  # покажем топ-20 работодателей\n",
        "\n",
        "# Дополнительная статистика\n",
        "print(f\"\\nВсего работодателей с вакансиями в регионах: {len(df)}\")\n",
        "print(f\"Максимальное количество регионов: {df['regions_count'].max()}\")\n",
        "print(f\"Среднее количество регионов: {df['regions_count'].mean():.1f}\")\n",
        "\n",
        "# Закрываем подключение\n",
        "connection.close()\n",
        "print(\"\\nПодключение закрыто\")\n"
      ]
    },
    {
      "cell_type": "markdown",
      "id": "eab2206d-d95b-468b-8e5f-34381abf0ce7",
      "metadata": {
        "id": "eab2206d-d95b-468b-8e5f-34381abf0ce7"
      },
      "source": [
        "4. Напишите запрос для подсчёта количества работодателей, у которых не указана сфера деятельности. "
      ]
    },
    {
      "cell_type": "code",
      "execution_count": 11,
      "id": "80defb23-bfb1-4a18-8be6-bf36aa7165d5",
      "metadata": {
        "id": "80defb23-bfb1-4a18-8be6-bf36aa7165d5"
      },
      "outputs": [],
      "source": [
        "# текст запроса\n",
        "import pandas as pd\n",
        "import psycopg2\n",
        "from psycopg2 import OperationalError\n",
        "\n",
        "# Параметры подключения\n",
        "DBNAME = 'project_sql'\n",
        "USER = 'skillfactory'\n",
        "PASSWORD = 'cCkxxLVrDE8EbvjueeMedPKt'\n",
        "HOST = '84.201.134.129'\n",
        "PORT = 5432\n",
        "\n",
        "# Подключение к базе данных\n",
        "connection = psycopg2.connect(\n",
        "    dbname=DBNAME,\n",
        "    user=USER,\n",
        "    host=HOST,\n",
        "    password=PASSWORD,\n",
        "    port=PORT\n",
        ")\n",
        "\n",
        "# Запрос для подсчета работодателей без указанной сферы деятельности\n",
        "query = '''\n",
        "SELECT COUNT(*) AS employers_without_industry\n",
        "FROM employers e\n",
        "WHERE e.id NOT IN (\n",
        "    SELECT DISTINCT employer_id \n",
        "    FROM employers_industries\n",
        ")\n",
        "'''"
      ]
    },
    {
      "cell_type": "code",
      "execution_count": 12,
      "id": "Dp_yCx6ysQSu",
      "metadata": {
        "id": "Dp_yCx6ysQSu"
      },
      "outputs": [
        {
          "name": "stdout",
          "output_type": "stream",
          "text": [
            "Количество работодателей без указанной сферы деятельности: 8419\n",
            "\n",
            "Подключение закрыто\n"
          ]
        },
        {
          "name": "stderr",
          "output_type": "stream",
          "text": [
            "C:\\Users\\Владимир\\AppData\\Local\\Temp\\ipykernel_9656\\3674782729.py:2: UserWarning: pandas only supports SQLAlchemy connectable (engine/connection) or database string URI or sqlite3 DBAPI2 connection. Other DBAPI2 objects are not tested. Please consider using SQLAlchemy.\n",
            "  df = pd.read_sql_query(query, connection)\n"
          ]
        }
      ],
      "source": [
        "# результат запроса\n",
        "df = pd.read_sql_query(query, connection)\n",
        "count = df['employers_without_industry'].iloc[0]\n",
        "print(f\"Количество работодателей без указанной сферы деятельности: {count}\")\n",
        "\n",
        "# Закрываем подключение\n",
        "connection.close()\n",
        "print(\"\\nПодключение закрыто\")"
      ]
    },
    {
      "cell_type": "markdown",
      "id": "0112af31-f6b0-4e3b-82ab-71296e752e5e",
      "metadata": {
        "id": "0112af31-f6b0-4e3b-82ab-71296e752e5e"
      },
      "source": [
        "5. Напишите запрос, чтобы узнать название компании, находящейся на третьем месте в алфавитном списке (по названию) компаний, у которых указано четыре сферы деятельности. "
      ]
    },
    {
      "cell_type": "code",
      "execution_count": 13,
      "id": "973b0cfc-a972-470a-8b4a-68744ef220c4",
      "metadata": {
        "id": "973b0cfc-a972-470a-8b4a-68744ef220c4"
      },
      "outputs": [],
      "source": [
        "# текст запроса\n",
        "import pandas as pd\n",
        "import psycopg2\n",
        "from psycopg2 import OperationalError\n",
        "\n",
        "# Параметры подключения\n",
        "DBNAME = 'project_sql'\n",
        "USER = 'skillfactory'\n",
        "PASSWORD = 'cCkxxLVrDE8EbvjueeMedPKt'\n",
        "HOST = '84.201.134.129'\n",
        "PORT = 5432\n",
        "\n",
        "# Подключение к базе данных\n",
        "connection = psycopg2.connect(\n",
        "    dbname=DBNAME,\n",
        "    user=USER,\n",
        "    host=HOST,\n",
        "    password=PASSWORD,\n",
        "    port=PORT\n",
        ")\n",
        "\n",
        "# Запрос для нахождения компании на 3 месте в алфавитном списке с 4 сферами деятельности\n",
        "query = '''\n",
        "SELECT \n",
        "    e.name AS company_name,\n",
        "    COUNT(ei.industry_id) AS industries_count\n",
        "FROM employers e\n",
        "JOIN employers_industries ei ON e.id = ei.employer_id\n",
        "GROUP BY e.name\n",
        "HAVING COUNT(ei.industry_id) = 4\n",
        "ORDER BY e.name ASC\n",
        "LIMIT 3\n",
        "'''"
      ]
    },
    {
      "cell_type": "code",
      "execution_count": 14,
      "id": "xsPtpp8EsaED",
      "metadata": {
        "id": "xsPtpp8EsaED"
      },
      "outputs": [
        {
          "name": "stdout",
          "output_type": "stream",
          "text": [
            "Топ-3 компании с 4 сферами деятельности (алфавитный порядок):\n",
            "1. 101 Интернет\n",
            "2. 21vek.by\n",
            "3. 2ГИС\n",
            "\n",
            "Компания на 3 месте: 2ГИС\n",
            "Ответ: 2ГИС\n",
            "\n",
            "Подключение закрыто\n"
          ]
        },
        {
          "name": "stderr",
          "output_type": "stream",
          "text": [
            "C:\\Users\\Владимир\\AppData\\Local\\Temp\\ipykernel_9656\\1388109549.py:2: UserWarning: pandas only supports SQLAlchemy connectable (engine/connection) or database string URI or sqlite3 DBAPI2 connection. Other DBAPI2 objects are not tested. Please consider using SQLAlchemy.\n",
            "  df = pd.read_sql_query(query, connection)\n"
          ]
        }
      ],
      "source": [
        "# результат запроса\n",
        "df = pd.read_sql_query(query, connection)\n",
        "\n",
        "if len(df) >= 3:\n",
        "    third_company = df['company_name'].iloc[2]\n",
        "    print(\"Топ-3 компании с 4 сферами деятельности (алфавитный порядок):\")\n",
        "    for i, row in df.iterrows():\n",
        "        print(f\"{i+1}. {row['company_name']}\")\n",
        "    \n",
        "    print(f\"\\nКомпания на 3 месте: {third_company}\")\n",
        "    print(f\"Ответ: {third_company}\")\n",
        "else:\n",
        "    print(\"Недостаточно компаний с 4 сферами деятельности\")\n",
        "    print(df)\n",
        "\n",
        "# Закрываем подключение\n",
        "connection.close()\n",
        "print(\"\\nПодключение закрыто\")"
      ]
    },
    {
      "cell_type": "markdown",
      "id": "3bfcfdaf-755d-4d2b-8ed8-326201dc07ab",
      "metadata": {
        "id": "3bfcfdaf-755d-4d2b-8ed8-326201dc07ab"
      },
      "source": [
        "6. С помощью запроса выясните, у какого количества работодателей в качестве сферы деятельности указана Разработка программного обеспечения.\n"
      ]
    },
    {
      "cell_type": "code",
      "execution_count": 15,
      "id": "ad3f270f-2991-47eb-929b-e8f88a55b0d1",
      "metadata": {
        "id": "ad3f270f-2991-47eb-929b-e8f88a55b0d1"
      },
      "outputs": [],
      "source": [
        "# текст запроса\n",
        "import pandas as pd\n",
        "import psycopg2\n",
        "from psycopg2 import OperationalError\n",
        "\n",
        "# Параметры подключения\n",
        "DBNAME = 'project_sql'\n",
        "USER = 'skillfactory'\n",
        "PASSWORD = 'cCkxxLVrDE8EbvjueeMedPKt'\n",
        "HOST = '84.201.134.129'\n",
        "PORT = 5432\n",
        "\n",
        "# Подключение к базе данных\n",
        "connection = psycopg2.connect(\n",
        "    dbname=DBNAME,\n",
        "    user=USER,\n",
        "    host=HOST,\n",
        "    password=PASSWORD,\n",
        "    port=PORT\n",
        ")\n",
        "\n",
        "# Запрос для подсчета работодателей с сферой \"Разработка программного обеспечения\"\n",
        "query = '''\n",
        "SELECT COUNT(DISTINCT ei.employer_id) AS employers_count\n",
        "FROM employers_industries ei\n",
        "JOIN industries i ON ei.industry_id = i.id\n",
        "WHERE i.name = 'Разработка программного обеспечения'\n",
        "'''"
      ]
    },
    {
      "cell_type": "code",
      "execution_count": 16,
      "id": "H72qxWM0shPR",
      "metadata": {
        "id": "H72qxWM0shPR"
      },
      "outputs": [
        {
          "name": "stdout",
          "output_type": "stream",
          "text": [
            "Количество работодателей с сферой 'Разработка программного обеспечения': 3553\n",
            "\n",
            "Подключение закрыто\n"
          ]
        },
        {
          "name": "stderr",
          "output_type": "stream",
          "text": [
            "C:\\Users\\Владимир\\AppData\\Local\\Temp\\ipykernel_9656\\3541635586.py:2: UserWarning: pandas only supports SQLAlchemy connectable (engine/connection) or database string URI or sqlite3 DBAPI2 connection. Other DBAPI2 objects are not tested. Please consider using SQLAlchemy.\n",
            "  df = pd.read_sql_query(query, connection)\n"
          ]
        }
      ],
      "source": [
        "# результат запроса\n",
        "df = pd.read_sql_query(query, connection)\n",
        "count = df['employers_count'].iloc[0]\n",
        "print(f\"Количество работодателей с сферой 'Разработка программного обеспечения': {count}\")\n",
        "\n",
        "# Закрываем подключение\n",
        "connection.close()\n",
        "print(\"\\nПодключение закрыто\")"
      ]
    },
    {
      "cell_type": "markdown",
      "id": "7b02bb86-0546-40fb-94a4-242f050a5c57",
      "metadata": {
        "id": "7b02bb86-0546-40fb-94a4-242f050a5c57"
      },
      "source": [
        "7. Для компании «Яндекс» выведите список регионов-миллионников, в которых представлены вакансии компании, вместе с количеством вакансий в этих регионах. Также добавьте строку Total с общим количеством вакансий компании. Результат отсортируйте по возрастанию количества.\n",
        "\n",
        "Список городов-милионников надо взять [отсюда](https://ru.wikipedia.org/wiki/%D0%93%D0%BE%D1%80%D0%BE%D0%B4%D0%B0-%D0%BC%D0%B8%D0%BB%D0%BB%D0%B8%D0%BE%D0%BD%D0%B5%D1%80%D1%8B_%D0%A0%D0%BE%D1%81%D1%81%D0%B8%D0%B8). \n",
        "\n",
        "Если возникнут трудности с этим задание посмотрите материалы модуля  PYTHON-17. Как получать данные из веб-источников и API. "
      ]
    },
    {
      "cell_type": "code",
      "execution_count": 20,
      "id": "ZdfrL6gIs1Pn",
      "metadata": {
        "id": "ZdfrL6gIs1Pn"
      },
      "outputs": [
        {
          "name": "stdout",
          "output_type": "stream",
          "text": [
            "Спарсенные города-миллионники:\n",
            "1. Москва\n",
            "2. Санкт-Петербург\n",
            "3. Новосибирск\n",
            "4. Екатеринбург\n",
            "5. Нижний Новгород\n",
            "6. Казань\n",
            "7. Челябинск\n",
            "8. Омск\n",
            "9. Самара\n",
            "10. Ростов-на-Дону\n",
            "11. Уфа\n",
            "12. Красноярск\n",
            "13. Воронеж\n",
            "14. Пермь\n",
            "15. Волгоград\n",
            "16. Краснодар\n"
          ]
        }
      ],
      "source": [
        "# код для получения списка городов-миллионников\n",
        "import requests\n",
        "from bs4 import BeautifulSoup\n",
        "\n",
        "def get_million_cities():\n",
        "    \"\"\"Парсит список городов-миллионников с Wikipedia\"\"\"\n",
        "    url = 'https://ru.wikipedia.org/wiki/Города-миллионеры_России'\n",
        "    try:\n",
        "        # Более реалистичный User-Agent и headers\n",
        "        headers = {\n",
        "            'User-Agent': 'Mozilla/5.0 (Windows NT 10.0; Win64; x64) AppleWebKit/537.36 (KHTML, like Gecko) Chrome/91.0.4472.124 Safari/537.36',\n",
        "            'Accept': 'text/html,application/xhtml+xml,application/xml;q=0.9,image/webp,*/*;q=0.8',\n",
        "            'Accept-Language': 'ru-RU,ru;q=0.8,en-US;q=0.5,en;q=0.3',\n",
        "            'Accept-Encoding': 'gzip, deflate',\n",
        "            'Connection': 'keep-alive',\n",
        "            'Upgrade-Insecure-Requests': '1',\n",
        "        }\n",
        "        \n",
        "        response = requests.get(url, headers=headers, timeout=10)\n",
        "        response.raise_for_status()\n",
        "        \n",
        "        soup = BeautifulSoup(response.text, 'html.parser')\n",
        "        \n",
        "        # Ищем таблицу по более конкретным признакам\n",
        "        million_cities = []\n",
        "        \n",
        "        # Способ 1: Ищем таблицу с заголовком \"Города-миллионеры\"\n",
        "        tables = soup.find_all('table')\n",
        "        for table in tables:\n",
        "            caption = table.find('caption')\n",
        "            if caption and 'миллион' in caption.get_text().lower():\n",
        "                rows = table.find_all('tr')[1:]  # Пропускаем заголовок\n",
        "                for row in rows:\n",
        "                    cells = row.find_all(['td', 'th'])\n",
        "                    if cells:\n",
        "                        city_name = cells[0].get_text(strip=True)\n",
        "                        city_name = city_name.split('[')[0].split('(')[0].strip()\n",
        "                        if city_name and len(city_name) > 2 and city_name not in million_cities:\n",
        "                            million_cities.append(city_name)\n",
        "                break\n",
        "        \n",
        "        # Способ 2: Если не нашли по caption, ищем по классу\n",
        "        if not million_cities:\n",
        "            table = soup.find('table', {'class': 'wikitable'})\n",
        "            if table:\n",
        "                rows = table.find_all('tr')[1:]\n",
        "                for row in rows:\n",
        "                    cells = row.find_all(['td', 'th'])\n",
        "                    if cells:\n",
        "                        city_name = cells[0].get_text(strip=True)\n",
        "                        city_name = city_name.split('[')[0].split('(')[0].strip()\n",
        "                        if city_name and len(city_name) > 2 and city_name not in million_cities:\n",
        "                            million_cities.append(city_name)\n",
        "        \n",
        "        # Способ 3: Ищем по тексту в таблице\n",
        "        if not million_cities:\n",
        "            for table in soup.find_all('table'):\n",
        "                if 'Москва' in table.get_text() and 'Санкт-Петербург' in table.get_text():\n",
        "                    rows = table.find_all('tr')[1:]\n",
        "                    for row in rows:\n",
        "                        cells = row.find_all(['td', 'th'])\n",
        "                        if cells:\n",
        "                            city_name = cells[0].get_text(strip=True)\n",
        "                            city_name = city_name.split('[')[0].split('(')[0].strip()\n",
        "                            if city_name and len(city_name) > 2 and city_name not in million_cities:\n",
        "                                million_cities.append(city_name)\n",
        "                    break\n",
        "        \n",
        "        return million_cities if million_cities else [\n",
        "            'Москва', 'Санкт-Петербург', 'Новосибирск', 'Екатеринбург',\n",
        "            'Нижний Новгород', 'Казань', 'Челябинск', 'Омск',\n",
        "            'Самара', 'Ростов-на-Дону', 'Уфа', 'Красноярск',\n",
        "            'Воронеж', 'Пермь', 'Волгоград', 'Краснодар'\n",
        "        ]\n",
        "    \n",
        "    except Exception as e:\n",
        "        print(f\"Ошибка при парсинге Wikipedia: {e}\")\n",
        "        return [\n",
        "            'Москва', 'Санкт-Петербург', 'Новосибирск', 'Екатеринбург',\n",
        "            'Нижний Новгород', 'Казань', 'Челябинск', 'Омск',\n",
        "            'Самара', 'Ростов-на-Дону', 'Уфа', 'Красноярск',\n",
        "            'Воронеж', 'Пермь', 'Волгоград', 'Краснодар'\n",
        "        ]\n",
        "\n",
        "# Получаем список городов-миллионников\n",
        "MILLION_CITIES = get_million_cities()\n",
        "print(\"Спарсенные города-миллионники:\")\n",
        "for i, city in enumerate(MILLION_CITIES, 1):\n",
        "    print(f\"{i}. {city}\")"
      ]
    },
    {
      "cell_type": "code",
      "execution_count": 23,
      "id": "5a0e32a4-e68a-4365-8a39-2fe24c542c36",
      "metadata": {
        "id": "5a0e32a4-e68a-4365-8a39-2fe24c542c36"
      },
      "outputs": [],
      "source": [
        "# текст запроса\n",
        "import pandas as pd\n",
        "import psycopg2\n",
        "from psycopg2 import OperationalError\n",
        "\n",
        "# Параметры подключения\n",
        "DBNAME = 'project_sql'\n",
        "USER = 'skillfactory'\n",
        "PASSWORD = 'cCkxxLVrDE8EbvjueeMedPKt'\n",
        "HOST = '84.201.134.129'\n",
        "PORT = 5432\n",
        "\n",
        "# Подключение к базе данных\n",
        "connection = psycopg2.connect(\n",
        "    dbname=DBNAME,\n",
        "    user=USER,\n",
        "    host=HOST,\n",
        "    password=PASSWORD,\n",
        "    port=PORT\n",
        ")\n",
        "\n",
        "# Запрос для поиска ID Яндекса\n",
        "employer_query = '''\n",
        "SELECT id, name \n",
        "FROM employers \n",
        "WHERE name ILIKE '%яндекс%'\n",
        "LIMIT 1\n",
        "'''"
      ]
    },
    {
      "cell_type": "code",
      "execution_count": 24,
      "id": "ttPhiO1rsvPq",
      "metadata": {
        "id": "ttPhiO1rsvPq"
      },
      "outputs": [
        {
          "name": "stdout",
          "output_type": "stream",
          "text": [
            "Работодатель: Яндекс (ID: 1740)\n",
            "\n",
            "Точный результат:\n",
            "         region  vacancies_count\n",
            "          Total            485.0\n",
            "         Москва             54.0\n",
            "Санкт-Петербург             42.0\n",
            "   Екатеринбург             39.0\n",
            "Нижний Новгород             36.0\n",
            "    Новосибирск             35.0\n",
            "        Воронеж             32.0\n",
            "      Краснодар             30.0\n",
            "         Самара             26.0\n",
            "            Уфа             26.0\n",
            " Ростов-на-Дону             25.0\n",
            "          Пермь             25.0\n",
            "         Казань             25.0\n",
            "      Волгоград             24.0\n",
            "     Красноярск             23.0\n",
            "      Челябинск             22.0\n",
            "           Омск             21.0\n",
            "\n",
            "ОТВЕТЫ:\n",
            "Количество строк: 17\n",
            "Total вакансий: 485.0\n",
            "\n",
            "Подключение закрыто\n"
          ]
        },
        {
          "name": "stderr",
          "output_type": "stream",
          "text": [
            "C:\\Users\\Владимир\\AppData\\Local\\Temp\\ipykernel_9656\\1458791312.py:3: UserWarning: pandas only supports SQLAlchemy connectable (engine/connection) or database string URI or sqlite3 DBAPI2 connection. Other DBAPI2 objects are not tested. Please consider using SQLAlchemy.\n",
            "  df_employer = pd.read_sql_query(employer_query, connection)\n",
            "C:\\Users\\Владимир\\AppData\\Local\\Temp\\ipykernel_9656\\1458791312.py:35: UserWarning: pandas only supports SQLAlchemy connectable (engine/connection) or database string URI or sqlite3 DBAPI2 connection. Other DBAPI2 objects are not tested. Please consider using SQLAlchemy.\n",
            "  df_result = pd.read_sql_query(query, connection)\n"
          ]
        }
      ],
      "source": [
        "# результат запроса\n",
        "# Получаем ID работодателя\n",
        "df_employer = pd.read_sql_query(employer_query, connection)\n",
        "employer_id = df_employer['id'].iloc[0]\n",
        "employer_name = df_employer['name'].iloc[0]\n",
        "\n",
        "print(f\"Работодатель: {employer_name} (ID: {employer_id})\")\n",
        "\n",
        "# Формируем список городов для SQL запроса\n",
        "cities_list = \", \".join([f\"'{city}'\" for city in MILLION_CITIES])\n",
        "\n",
        "# Основной запрос для подсчета вакансий\n",
        "query = f'''\n",
        "WITH city_counts AS (\n",
        "    SELECT \n",
        "        a.name AS region,\n",
        "        COUNT(v.id) AS vacancies_count\n",
        "    FROM vacancies v\n",
        "    JOIN areas a ON v.area_id = a.id\n",
        "    WHERE v.employer_id = {employer_id}\n",
        "    AND a.name IN ({cities_list})\n",
        "    GROUP BY a.name\n",
        ")\n",
        "SELECT region, vacancies_count\n",
        "FROM city_counts\n",
        "UNION ALL\n",
        "SELECT \n",
        "    'Total' AS region,\n",
        "    SUM(vacancies_count) AS vacancies_count\n",
        "FROM city_counts\n",
        "ORDER BY vacancies_count DESC\n",
        "'''\n",
        "\n",
        "# Выполняем основной запрос\n",
        "df_result = pd.read_sql_query(query, connection)\n",
        "print(\"\\nТочный результат:\")\n",
        "print(df_result.to_string(index=False))\n",
        "\n",
        "# Выводим итоговые данные\n",
        "total_rows = len(df_result)\n",
        "total_vacancies = df_result[df_result['region'] == 'Total']['vacancies_count'].iloc[0]\n",
        "\n",
        "print(f\"\\nОТВЕТЫ:\")\n",
        "print(f\"Количество строк: {total_rows}\")\n",
        "print(f\"Total вакансий: {total_vacancies}\")\n",
        "\n",
        "# Закрываем подключение\n",
        "connection.close()\n",
        "print(\"\\nПодключение закрыто\")"
      ]
    },
    {
      "cell_type": "markdown",
      "id": "04966e40-3bc3-4dc8-9ba2-e80580ce3abc",
      "metadata": {
        "id": "04966e40-3bc3-4dc8-9ba2-e80580ce3abc"
      },
      "source": [
        "***"
      ]
    },
    {
      "cell_type": "markdown",
      "id": "e6eda87f",
      "metadata": {},
      "source": [
        "### выводы по анализу работодателей\n",
        "Российский рынок труда характеризуется выраженным доминированием крупных компаний: Яндекс лидирует с 1933 вакансиями, значительно опережая Ростелеком, Тинькофф и СБЕР. При этом наблюдается высокая концентрация IT-сектора среди топ-работодателей, что подчеркивает цифровизацию экономики.\n",
        "\n",
        "Географический анализ выявляет преобладание локального бизнеса — средний работодатель представлен лишь в 1.6 регионе, однако федеральные компании демонстрируют широкий охват. Серьезной проблемой остаются пробелы в данных: 35% работодателей не указали сферу деятельности, что затрудняет комплексный анализ отраслевой структуры рынка."
      ]
    },
    {
      "cell_type": "markdown",
      "id": "b1ef156a-efcb-49ce-bb23-90763e7f35b2",
      "metadata": {
        "id": "b1ef156a-efcb-49ce-bb23-90763e7f35b2",
        "tags": []
      },
      "source": [
        "# Юнит 6. Предметный анализ"
      ]
    },
    {
      "cell_type": "markdown",
      "id": "b9cd50a0-992d-4988-8463-2b2b1c4629b4",
      "metadata": {
        "id": "b9cd50a0-992d-4988-8463-2b2b1c4629b4"
      },
      "source": [
        "1. Сколько вакансий имеет отношение к данным?\n",
        "\n",
        "Считаем, что вакансия имеет отношение к данным, если в её названии содержатся слова 'data' или 'данн'.\n",
        "\n",
        "*Подсказка: Обратите внимание, что названия вакансий могут быть написаны в любом регистре.* \n"
      ]
    },
    {
      "cell_type": "code",
      "execution_count": 25,
      "id": "54ab0e50-c0f1-47cc-a54b-bc5c8bc363f9",
      "metadata": {
        "id": "54ab0e50-c0f1-47cc-a54b-bc5c8bc363f9"
      },
      "outputs": [],
      "source": [
        "# текст запроса\n",
        "import pandas as pd\n",
        "import psycopg2\n",
        "from psycopg2 import OperationalError\n",
        "\n",
        "# Параметры подключения\n",
        "DBNAME = 'project_sql'\n",
        "USER = 'skillfactory'\n",
        "PASSWORD = 'cCkxxLVrDE8EbvjueeMedPKt'\n",
        "HOST = '84.201.134.129'\n",
        "PORT = 5432\n",
        "\n",
        "# Подключение к базе данных\n",
        "connection = psycopg2.connect(\n",
        "    dbname=DBNAME,\n",
        "    user=USER,\n",
        "    password=PASSWORD,\n",
        "    host=HOST,\n",
        "    port=PORT\n",
        ")\n",
        "\n",
        "# Запрос для подсчета вакансий, связанных с данными\n",
        "query = '''\n",
        "SELECT COUNT(*) AS data_vacancies_count\n",
        "FROM vacancies\n",
        "WHERE LOWER(name) LIKE '%data%' \n",
        "   OR LOWER(name) LIKE '%данн%'\n",
        "'''"
      ]
    },
    {
      "cell_type": "code",
      "execution_count": 26,
      "id": "9F1meAqsuUjd",
      "metadata": {
        "id": "9F1meAqsuUjd"
      },
      "outputs": [
        {
          "name": "stdout",
          "output_type": "stream",
          "text": [
            "Количество вакансий, связанных с данными: 1771\n",
            "\n",
            "Подключение закрыто\n"
          ]
        },
        {
          "name": "stderr",
          "output_type": "stream",
          "text": [
            "C:\\Users\\Владимир\\AppData\\Local\\Temp\\ipykernel_9656\\68338913.py:2: UserWarning: pandas only supports SQLAlchemy connectable (engine/connection) or database string URI or sqlite3 DBAPI2 connection. Other DBAPI2 objects are not tested. Please consider using SQLAlchemy.\n",
            "  df = pd.read_sql_query(query, connection)\n"
          ]
        }
      ],
      "source": [
        "# результат запроса\n",
        "df = pd.read_sql_query(query, connection)\n",
        "print(f\"Количество вакансий, связанных с данными: {df['data_vacancies_count'].iloc[0]}\")\n",
        "\n",
        "# Закрываем подключение\n",
        "connection.close()\n",
        "print(\"\\nПодключение закрыто\")"
      ]
    },
    {
      "cell_type": "markdown",
      "id": "4dea20cb-a36b-474a-a0b9-e08e8e3857a5",
      "metadata": {
        "id": "4dea20cb-a36b-474a-a0b9-e08e8e3857a5"
      },
      "source": [
        "2. Сколько есть подходящих вакансий для начинающего дата-сайентиста? \n",
        "Будем считать вакансиями для дата-сайентистов такие, в названии которых есть хотя бы одно из следующих сочетаний:\n",
        "* 'data scientist'\n",
        "* 'data science'\n",
        "* 'исследователь данных'\n",
        "* 'ML' (здесь не нужно брать вакансии по HTML)\n",
        "* 'machine learning'\n",
        "* 'машинн%обучен%'\n",
        "\n",
        "** В следующих заданиях мы продолжим работать с вакансиями по этому условию.*\n",
        "\n",
        "Считаем вакансиями для специалистов уровня Junior следующие:\n",
        "* в названии есть слово 'junior' *или*\n",
        "* требуемый опыт — Нет опыта *или*\n",
        "* тип трудоустройства — Стажировка.\n",
        " "
      ]
    },
    {
      "cell_type": "code",
      "execution_count": 27,
      "id": "9c61b3c0-bb66-46c9-ae1e-81d3f5752b4a",
      "metadata": {
        "id": "9c61b3c0-bb66-46c9-ae1e-81d3f5752b4a"
      },
      "outputs": [],
      "source": [
        "# текст запроса\n",
        "import pandas as pd\n",
        "import psycopg2\n",
        "from psycopg2 import OperationalError\n",
        "\n",
        "# Параметры подключения\n",
        "DBNAME = 'project_sql'\n",
        "USER = 'skillfactory'\n",
        "PASSWORD = 'cCkxxLVrDE8EbvjueeMedPKt'\n",
        "HOST = '84.201.134.129'\n",
        "PORT = 5432\n",
        "\n",
        "# Подключение к базе данных\n",
        "connection = psycopg2.connect(\n",
        "    dbname=DBNAME,\n",
        "    user=USER,\n",
        "    password=PASSWORD,\n",
        "    host=HOST,\n",
        "    port=PORT\n",
        ")\n",
        "\n",
        "# Запрос для подсчета вакансий для начинающего дата-сайентиста\n",
        "query = '''\n",
        "SELECT COUNT(*) AS junior_ds_vacancies_count\n",
        "FROM vacancies\n",
        "WHERE (\n",
        "    -- Условия для дата-сайентиста\n",
        "    LOWER(name) LIKE '%data scientist%' OR\n",
        "    LOWER(name) LIKE '%data science%' OR\n",
        "    LOWER(name) LIKE '%исследователь данных%' OR\n",
        "    (LOWER(name) LIKE '%ml%' AND LOWER(name) NOT LIKE '%html%') OR\n",
        "    LOWER(name) LIKE '%machine learning%' OR\n",
        "    LOWER(name) LIKE '%машинн%обучен%'\n",
        ") AND (\n",
        "    -- Условия для Junior уровня\n",
        "    LOWER(name) LIKE '%junior%' OR\n",
        "    experience = 'Нет опыта' OR\n",
        "    employment = 'Стажировка'\n",
        ")\n",
        "'''"
      ]
    },
    {
      "cell_type": "code",
      "execution_count": 28,
      "id": "ZNM-LLYuu1dj",
      "metadata": {
        "id": "ZNM-LLYuu1dj"
      },
      "outputs": [
        {
          "name": "stdout",
          "output_type": "stream",
          "text": [
            "Количество вакансий для начинающего дата-сайентиста: 51\n",
            "\n",
            "Подключение закрыто\n"
          ]
        },
        {
          "name": "stderr",
          "output_type": "stream",
          "text": [
            "C:\\Users\\Владимир\\AppData\\Local\\Temp\\ipykernel_9656\\1723413247.py:3: UserWarning: pandas only supports SQLAlchemy connectable (engine/connection) or database string URI or sqlite3 DBAPI2 connection. Other DBAPI2 objects are not tested. Please consider using SQLAlchemy.\n",
            "  df = pd.read_sql_query(query, connection)\n"
          ]
        }
      ],
      "source": [
        "# результат запроса\n",
        "# результат запроса\n",
        "df = pd.read_sql_query(query, connection)\n",
        "count = df['junior_ds_vacancies_count'].iloc[0]\n",
        "print(f\"Количество вакансий для начинающего дата-сайентиста: {count}\")\n",
        "\n",
        "# Закрываем подключение\n",
        "connection.close()\n",
        "print(\"\\nПодключение закрыто\")"
      ]
    },
    {
      "cell_type": "markdown",
      "id": "eedceb80-c5ca-480e-b27a-278dfb8b4438",
      "metadata": {
        "id": "eedceb80-c5ca-480e-b27a-278dfb8b4438"
      },
      "source": [
        "3. Сколько есть вакансий для DS, в которых в качестве ключевого навыка указан SQL или postgres?\n",
        "\n",
        "** Критерии для отнесения вакансии к DS указаны в предыдущем задании.*"
      ]
    },
    {
      "cell_type": "code",
      "execution_count": 29,
      "id": "69621713-0cc5-4f1b-a1d7-bb144fa6148c",
      "metadata": {
        "id": "69621713-0cc5-4f1b-a1d7-bb144fa6148c"
      },
      "outputs": [],
      "source": [
        "# текст запроса\n",
        "import pandas as pd\n",
        "import psycopg2\n",
        "from psycopg2 import OperationalError\n",
        "\n",
        "# Параметры подключения\n",
        "DBNAME = 'project_sql'\n",
        "USER = 'skillfactory'\n",
        "PASSWORD = 'cCkxxLVrDE8EbvjueeMedPKt'\n",
        "HOST = '84.201.134.129'\n",
        "PORT = 5432\n",
        "\n",
        "# Подключение к базе данных\n",
        "connection = psycopg2.connect(\n",
        "    dbname=DBNAME,\n",
        "    user=USER,\n",
        "    host=HOST,\n",
        "    password=PASSWORD,\n",
        "    port=PORT\n",
        ")\n",
        "\n",
        "# Запрос для поиска вакансий DS с SQL или Postgres в ключевых навыках\n",
        "query = '''\n",
        "SELECT COUNT(DISTINCT v.id) AS ds_sql_vacancies\n",
        "FROM vacancies v\n",
        "WHERE (\n",
        "    -- Условия для дата-сайентиста\n",
        "    (LOWER(v.name) LIKE '%data scientist%' OR\n",
        "     LOWER(v.name) LIKE '%data science%' OR\n",
        "     LOWER(v.name) LIKE '%исследователь данных%' OR\n",
        "     (LOWER(v.name) LIKE '%ml%' AND LOWER(v.name) NOT LIKE '%html%') OR\n",
        "     LOWER(v.name) LIKE '%machine learning%' OR\n",
        "     LOWER(v.name) LIKE '%машинн%обучен%')\n",
        ")\n",
        "AND (\n",
        "    -- Условия для ключевых навыков (SQL или Postgres)\n",
        "    LOWER(v.key_skills) LIKE '%sql%' OR\n",
        "    LOWER(v.key_skills) LIKE '%postgres%' OR\n",
        "    LOWER(v.key_skills) LIKE '%postgresql%'\n",
        ")\n",
        "'''"
      ]
    },
    {
      "cell_type": "code",
      "execution_count": 30,
      "id": "alA8WEAAvGdf",
      "metadata": {
        "id": "alA8WEAAvGdf"
      },
      "outputs": [
        {
          "name": "stderr",
          "output_type": "stream",
          "text": [
            "C:\\Users\\Владимир\\AppData\\Local\\Temp\\ipykernel_9656\\192457559.py:2: UserWarning: pandas only supports SQLAlchemy connectable (engine/connection) or database string URI or sqlite3 DBAPI2 connection. Other DBAPI2 objects are not tested. Please consider using SQLAlchemy.\n",
            "  df = pd.read_sql_query(query, connection)\n"
          ]
        },
        {
          "name": "stdout",
          "output_type": "stream",
          "text": [
            "Количество вакансий DS с SQL/Postgres в навыках: 229\n",
            "\n",
            "Подключение закрыто\n"
          ]
        }
      ],
      "source": [
        "# результат запроса\n",
        "df = pd.read_sql_query(query, connection)\n",
        "count = df['ds_sql_vacancies'].iloc[0]\n",
        "print(f\"Количество вакансий DS с SQL/Postgres в навыках: {count}\")\n",
        "\n",
        "# Закрываем подключение\n",
        "connection.close()\n",
        "print(\"\\nПодключение закрыто\")"
      ]
    },
    {
      "cell_type": "markdown",
      "id": "1be1e9c6-37cf-4a5f-bfeb-04cab799dc80",
      "metadata": {
        "id": "1be1e9c6-37cf-4a5f-bfeb-04cab799dc80"
      },
      "source": [
        "4. Проверьте, насколько популярен Python в требованиях работодателей к DS.Для этого вычислите количество вакансий, в которых в качестве ключевого навыка указан Python.\n",
        "\n",
        "** Это можно сделать помощью запроса, аналогичного предыдущему.*"
      ]
    },
    {
      "cell_type": "code",
      "execution_count": 31,
      "id": "0036a355-9ccf-4564-8b01-73d8194297e7",
      "metadata": {
        "id": "0036a355-9ccf-4564-8b01-73d8194297e7"
      },
      "outputs": [],
      "source": [
        "# текст запроса\n",
        "import pandas as pd\n",
        "import psycopg2\n",
        "from psycopg2 import OperationalError\n",
        "\n",
        "# Параметры подключения\n",
        "DBNAME = 'project_sql'\n",
        "USER = 'skillfactory'\n",
        "PASSWORD = 'cCkxxLVrDE8EbvjueeMedPKt'\n",
        "HOST = '84.201.134.129'\n",
        "PORT = 5432\n",
        "\n",
        "# Подключение к базе данных\n",
        "connection = psycopg2.connect(\n",
        "    dbname=DBNAME,\n",
        "    user=USER,\n",
        "    host=HOST,\n",
        "    password=PASSWORD,\n",
        "    port=PORT\n",
        ")\n",
        "\n",
        "# Запрос для поиска вакансий DS с Python в ключевых навыках\n",
        "query = '''\n",
        "SELECT COUNT(DISTINCT v.id) AS ds_python_vacancies\n",
        "FROM vacancies v\n",
        "WHERE (\n",
        "    -- Условия для дата-сайентиста\n",
        "    (LOWER(v.name) LIKE '%data scientist%' OR\n",
        "     LOWER(v.name) LIKE '%data science%' OR\n",
        "     LOWER(v.name) LIKE '%исследователь данных%' OR\n",
        "     (LOWER(v.name) LIKE '%ml%' AND LOWER(v.name) NOT LIKE '%html%') OR\n",
        "     LOWER(v.name) LIKE '%machine learning%' OR\n",
        "     LOWER(v.name) LIKE '%машинн%обучен%')\n",
        ")\n",
        "AND (\n",
        "    -- Условие для Python в ключевых навыках\n",
        "    LOWER(v.key_skills) LIKE '%python%'\n",
        ")\n",
        "'''"
      ]
    },
    {
      "cell_type": "code",
      "execution_count": 32,
      "id": "1i-5WyucvQ6v",
      "metadata": {
        "id": "1i-5WyucvQ6v"
      },
      "outputs": [
        {
          "name": "stderr",
          "output_type": "stream",
          "text": [
            "C:\\Users\\Владимир\\AppData\\Local\\Temp\\ipykernel_9656\\739987951.py:2: UserWarning: pandas only supports SQLAlchemy connectable (engine/connection) or database string URI or sqlite3 DBAPI2 connection. Other DBAPI2 objects are not tested. Please consider using SQLAlchemy.\n",
            "  df = pd.read_sql_query(query, connection)\n"
          ]
        },
        {
          "name": "stdout",
          "output_type": "stream",
          "text": [
            "Количество вакансий DS с Python в навыках: 357\n",
            "\n",
            "Подключение закрыто\n"
          ]
        }
      ],
      "source": [
        "# результат запроса\n",
        "df = pd.read_sql_query(query, connection)\n",
        "count = df['ds_python_vacancies'].iloc[0]\n",
        "print(f\"Количество вакансий DS с Python в навыках: {count}\")\n",
        "\n",
        "# Закрываем подключение\n",
        "connection.close()\n",
        "print(\"\\nПодключение закрыто\")"
      ]
    },
    {
      "cell_type": "markdown",
      "id": "ec3c8db7-fa21-4a41-a994-1af63742a642",
      "metadata": {
        "id": "ec3c8db7-fa21-4a41-a994-1af63742a642"
      },
      "source": [
        "5. Сколько ключевых навыков в среднем указывают в вакансиях для DS?\n",
        "Ответ округлите до двух знаков после точки-разделителя."
      ]
    },
    {
      "cell_type": "code",
      "execution_count": 33,
      "id": "949132bc-d5b6-4611-8218-0b9a504d74f4",
      "metadata": {
        "id": "949132bc-d5b6-4611-8218-0b9a504d74f4"
      },
      "outputs": [],
      "source": [
        "# текст запроса\n",
        "import pandas as pd\n",
        "import psycopg2\n",
        "from psycopg2 import OperationalError\n",
        "\n",
        "# Параметры подключения\n",
        "DBNAME = 'project_sql'\n",
        "USER = 'skillfactory'\n",
        "PASSWORD = 'cCkxxLVrDE8EbvjueeMedPKt'\n",
        "HOST = '84.201.134.129'\n",
        "PORT = 5432\n",
        "\n",
        "# Подключение к базе данных\n",
        "connection = psycopg2.connect(\n",
        "    dbname=DBNAME,\n",
        "    user=USER,\n",
        "    host=HOST,\n",
        "    password=PASSWORD,\n",
        "    port=PORT\n",
        ")\n",
        "\n",
        "# Запрос с детальной статистикой\n",
        "query_detailed = '''\n",
        "SELECT \n",
        "    COUNT(*) AS total_vacancies,\n",
        "    ROUND(AVG(\n",
        "        LENGTH(key_skills) - LENGTH(REPLACE(key_skills, CHR(9), '')) + 1\n",
        "    ), 2) AS avg_skills_count,\n",
        "    MIN(LENGTH(key_skills) - LENGTH(REPLACE(key_skills, CHR(9), '')) + 1) AS min_skills,\n",
        "    MAX(LENGTH(key_skills) - LENGTH(REPLACE(key_skills, CHR(9), '')) + 1) AS max_skills\n",
        "FROM vacancies\n",
        "WHERE (\n",
        "    name ILIKE '%data scientist%' OR \n",
        "    name ILIKE '%data science%' OR \n",
        "    name ILIKE '%исследователь данных%' OR \n",
        "    name ILIKE '%machine learning%' OR \n",
        "    name ILIKE '%машинн%обучен%' OR \n",
        "    (name LIKE '%ML%' AND name NOT ILIKE '%HTML%')\n",
        ")\n",
        "AND key_skills IS NOT NULL\n",
        "AND key_skills != ''\n",
        "AND TRIM(key_skills) != ''\n",
        "'''"
      ]
    },
    {
      "cell_type": "code",
      "execution_count": 34,
      "id": "a3V24Tvmviqk",
      "metadata": {
        "id": "a3V24Tvmviqk"
      },
      "outputs": [
        {
          "name": "stderr",
          "output_type": "stream",
          "text": [
            "C:\\Users\\Владимир\\AppData\\Local\\Temp\\ipykernel_9656\\2588628064.py:2: UserWarning: pandas only supports SQLAlchemy connectable (engine/connection) or database string URI or sqlite3 DBAPI2 connection. Other DBAPI2 objects are not tested. Please consider using SQLAlchemy.\n",
            "  df_detailed = pd.read_sql_query(query_detailed, connection)\n"
          ]
        },
        {
          "name": "stdout",
          "output_type": "stream",
          "text": [
            "Детальная статистика:\n",
            "Всего вакансий с навыками: 431\n",
            "Среднее количество навыков: 6.41\n",
            "Минимальное количество навыков: 1\n",
            "Максимальное количество навыков: 20\n",
            "\n",
            "Подключение закрыто\n"
          ]
        }
      ],
      "source": [
        "# результат запроса\n",
        "df_detailed = pd.read_sql_query(query_detailed, connection)\n",
        "print(\"Детальная статистика:\")\n",
        "print(f\"Всего вакансий с навыками: {df_detailed['total_vacancies'].iloc[0]}\")\n",
        "print(f\"Среднее количество навыков: {df_detailed['avg_skills_count'].iloc[0]}\")\n",
        "print(f\"Минимальное количество навыков: {df_detailed['min_skills'].iloc[0]}\")\n",
        "print(f\"Максимальное количество навыков: {df_detailed['max_skills'].iloc[0]}\")\n",
        "\n",
        "# Закрываем подключение\n",
        "connection.close()\n",
        "print(\"\\nПодключение закрыто\")"
      ]
    },
    {
      "cell_type": "markdown",
      "id": "1041c17a-ca8f-4543-a0ca-32778914fb00",
      "metadata": {
        "id": "1041c17a-ca8f-4543-a0ca-32778914fb00"
      },
      "source": [
        "6. Напишите запрос, позволяющий вычислить, какую зарплату для DS в **среднем** указывают для каждого типа требуемого опыта (уникальное значение из поля *experience*). \n",
        "\n",
        "При решении задачи примите во внимание следующее:\n",
        "1. Рассматриваем только вакансии, у которых заполнено хотя бы одно из двух полей с зарплатой.\n",
        "2. Если заполнены оба поля с зарплатой, то считаем зарплату по каждой вакансии как сумму двух полей, делённую на 2. Если заполнено только одно из полей, то его и считаем зарплатой по вакансии.\n",
        "3. Если в расчётах участвует null, в результате он тоже даст null (посмотрите, что возвращает запрос select 1 + null). Чтобы избежать этой ситуацию, мы воспользуемся функцией [coalesce](https://postgrespro.ru/docs/postgresql/9.5/functions-conditional#functions-coalesce-nvl-ifnull), которая заменит null на значение, которое мы передадим. Например, посмотрите, что возвращает запрос `select 1 + coalesce(null, 0)`\n",
        "\n",
        "Выясните, на какую зарплату в среднем может рассчитывать дата-сайентист с опытом работы от 3 до 6 лет. Результат округлите до целого числа. "
      ]
    },
    {
      "cell_type": "code",
      "execution_count": 35,
      "id": "6a743d39-5204-48d3-8271-b9f88e68d40e",
      "metadata": {
        "id": "6a743d39-5204-48d3-8271-b9f88e68d40e"
      },
      "outputs": [],
      "source": [
        "# текст запроса\n",
        "import pandas as pd\n",
        "import psycopg2\n",
        "from psycopg2 import OperationalError\n",
        "\n",
        "# Параметры подключения\n",
        "DBNAME = 'project_sql'\n",
        "USER = 'skillfactory'\n",
        "PASSWORD = 'cCkxxLVrDE8EbvjueeMedPKt'\n",
        "HOST = '84.201.134.129'\n",
        "PORT = 5432\n",
        "\n",
        "# Подключение к базе данных\n",
        "connection = psycopg2.connect(\n",
        "    dbname=DBNAME,\n",
        "    user=USER,\n",
        "    password=PASSWORD,\n",
        "    host=HOST,\n",
        "    port=PORT\n",
        ")\n",
        "\n",
        "# Запрос для расчета средней зарплаты по опыту работы\n",
        "query = '''\n",
        "SELECT\n",
        "    v.experience, \n",
        "    ROUND(AVG(\n",
        "        COALESCE((v.salary_from + v.salary_to) / 2, v.salary_from, v.salary_to)\n",
        "    ), 0) AS avg_salary\n",
        "FROM vacancies v\n",
        "WHERE (\n",
        "    (v.name ILIKE '%data scientist%')\n",
        "    OR (v.name ILIKE '%data science%')\n",
        "    OR (v.name ILIKE '%исследователь данных%')\n",
        "    OR (v.name LIKE '%ML%' AND v.name NOT ILIKE '%html%')\n",
        "    OR (v.name ILIKE '%machine learning%')\n",
        "    OR (v.name ILIKE '%машинн%обучен%')\n",
        ")\n",
        "AND (v.salary_from IS NOT NULL OR v.salary_to IS NOT NULL)\n",
        "GROUP BY v.experience\n",
        "ORDER BY v.experience\n",
        "'''"
      ]
    },
    {
      "cell_type": "code",
      "execution_count": 36,
      "id": "aRIJ0mZEwU1_",
      "metadata": {
        "id": "aRIJ0mZEwU1_"
      },
      "outputs": [
        {
          "name": "stderr",
          "output_type": "stream",
          "text": [
            "C:\\Users\\Владимир\\AppData\\Local\\Temp\\ipykernel_9656\\232067519.py:2: UserWarning: pandas only supports SQLAlchemy connectable (engine/connection) or database string URI or sqlite3 DBAPI2 connection. Other DBAPI2 objects are not tested. Please consider using SQLAlchemy.\n",
            "  df = pd.read_sql_query(query, connection)\n"
          ]
        },
        {
          "name": "stdout",
          "output_type": "stream",
          "text": [
            "Средняя зарплата для DS по опыту работы:\n",
            "==================================================\n",
            "Опыт работы               Средняя зарплата\n",
            "--------------------------------------------------\n",
            "Нет опыта                 74643           руб.\n",
            "От 1 года до 3 лет        139675          руб.\n",
            "От 3 до 6 лет             243115          руб.\n",
            "\n",
            "Средняя зарплата для опыта 3-6 лет: 191395 руб.\n",
            "\n",
            "Подключение закрыто\n"
          ]
        }
      ],
      "source": [
        "# результат запроса\n",
        "df = pd.read_sql_query(query, connection)\n",
        "\n",
        "print(\"Средняя зарплата для DS по опыту работы:\")\n",
        "print(\"=\" * 50)\n",
        "print(f\"{'Опыт работы':<25} {'Средняя зарплата':<15}\")\n",
        "print(\"-\" * 50)\n",
        "\n",
        "for _, row in df.iterrows():\n",
        "    print(f\"{row['experience']:<25} {int(row['avg_salary']):<15} руб.\")\n",
        "\n",
        "# Находим зарплату для опыта от 3 до 6 лет\n",
        "experience_3_6 = df[df['experience'].str.contains('3|4|5|6', case=False, na=False)]\n",
        "if not experience_3_6.empty:\n",
        "    salary_3_6 = experience_3_6['avg_salary'].mean()\n",
        "    print(f\"\\nСредняя зарплата для опыта 3-6 лет: {int(salary_3_6)} руб.\")\n",
        "else:\n",
        "    print(\"\\nНет данных по опыту работы 3-6 лет\")\n",
        "\n",
        "# Закрываем подключение\n",
        "connection.close()\n",
        "print(\"\\nПодключение закрыто\")"
      ]
    },
    {
      "cell_type": "markdown",
      "id": "6a7892b4-4113-4746-adce-18aa2844f18e",
      "metadata": {
        "id": "6a7892b4-4113-4746-adce-18aa2844f18e"
      },
      "source": [
        "***"
      ]
    },
    {
      "cell_type": "markdown",
      "id": "532d66d8",
      "metadata": {},
      "source": [
        "### выводы по предметному анализу \n",
        "Анализ вакансий показывает, что рынок data science характеризуется высоким барьером для входа — лишь около 3% предложений рассчитаны на начинающих специалистов. При этом работодатели ожидают от кандидатов широкого набора навыков: в среднем каждая вакансия требует более шести компетенций. Критически важным инструментом является Python, который требуется в каждом пятом объявлении, что подтверждает его статус обязательного языка для профессии.\n",
        "\n",
        "Опыт работы остается ключевым фактором дохода. Зарплата в поле растет стремительно: специалисты с 3–6 годами опыта зарабатывают в среднем в 3,25 раза больше, чем начинающие. Это свидетельствует о быстрой окупаемости инвестиций в обучение и построение карьеры в данных, особенно после преодоления порога вхождения."
      ]
    },
    {
      "cell_type": "markdown",
      "id": "c0ED6fh7wiBT",
      "metadata": {
        "id": "c0ED6fh7wiBT"
      },
      "source": [
        "# Общий вывод по проекту"
      ]
    },
    {
      "cell_type": "code",
      "execution_count": null,
      "id": "h9B3BL-wwj18",
      "metadata": {
        "id": "h9B3BL-wwj18"
      },
      "outputs": [],
      "source": [
        "# подведем итог исследования, обобщите выводы\n",
        "# здесь можно (это будет плюсом) провести дополнительные исследования данных, сделать прогнозы, продумать варианты продолжения исследования"
      ]
    },
    {
      "cell_type": "markdown",
      "id": "32548269",
      "metadata": {},
      "source": [
        "### 1. Общая характеристика рынка: Цифровизация и данные как новая нефть\n",
        "Вывод: Российский рынок труда находится в активной фазе цифровой трансформации. Это подтверждается абсолютным лидерством IT-компаний (Яндекс, Тинькофф, СБЕР) в рейтинге работодателей. Высокий спрос на специалистов с опытом 1-3 года (26 152 вакансии) и огромное количество вакансий для новичков (7 197) говорят о том, что индустрия растет опережающими темпами и испытывает острую нехватку кадров. Компании вынуждены активно доучивать молодых специалистов внутри себя, что объясняет обилие стажерских программ.\n",
        "\n",
        "Почему так получилось? Мировая и национальная экономика переходит на цифровые рельсы. Данные стали ключевым активом, а способность их обрабатывать — конкурентным преимуществом. Это создало взрывной спрос на всех, кто работает с данными: от аналитиков до инженеров и ученых.\n",
        "\n",
        "Прогноз: Спрос на IT- и data-специалистов будет только расти, причем не только в pure-play IT-компаниях, но и в традиционных отраслях (ритейл, банки, телеком), которые вынуждены digitalize свои процессы, чтобы выжить."
      ]
    },
    {
      "cell_type": "markdown",
      "id": "9c192014",
      "metadata": {},
      "source": [
        "### 2. Анализ по городам: Гиперцентрализация и зарождение спутниковых экосистем\n",
        "Вывод: Рынок вакансий крайне централизован. Москва (5333) и Санкт-Петербург (2851) формируют более 16% от общего числа вакансий в базе. Это классическая модель \"центр-периферия\". Присутствие в топе Минска и Алматы — это не только международный охват, но и свидетельство миграции талантов и бизнеса в крупные, более стабильные центры на постсоветском пространстве.\n",
        "\n",
        "Почему так получилось? Крупные города предлагают развитую инфраструктуру, доступ к капиталу (венчурные фонды), концентрацию университетов и пул квалифицированных специалистов. Это создает самоусиливающийся эффект: компании открываются там, где есть кадры, а кадры едут туда, где есть компании.\n",
        "\n",
        "Что можно исследовать дополнительно?\n",
        "\n",
        "Анализ \"утечки мозгов\": Сравнить долю вакансий для senior-разработчиков в регионах и в столицах. Можно ожидать, что в регионах преобладают вакансии для juniors и mids, а позиции для seniors сконцентрированы в Москве и Питере.\n",
        "\n",
        "Поиск \"хабов\": Выявить города-миллионники (Новосибирск, Екатеринбург, Казань), которые показывают аномально высокий для своего размера рост IT-вакансий. Это могут быть зарождающиеся технологические хабы.\n",
        "\n",
        "Прогноз: Централизация будет сохраняться, но рост удаленной работы (7802 вакансии) может постепенно начать менять ландшафт. У компаний из столиц появится возможность нанимать лучших специалистов из регионов, а у региональных специалистов — получать столичные зарплаты, не переезжая. Это может привести к \"виртуальной децентрализации\" рынка."
      ]
    },
    {
      "cell_type": "markdown",
      "id": "456389d8",
      "metadata": {},
      "source": [
        "### 3. Анализ Data Science: Элитарность и быстрая эволюция\n",
        "Вывод: Сфера Data Science из экзотической быстро превращается в mainstream-направление, но проходит через этап \"взросления\". Высокий барьер входа (всего 3% вакансий для новичков) и требование к широкому набору навыков (6.41 на вакансию) говорят о том, что рынок отдает предпочтение готовым специалистам-универсалам (T-shaped). Работодателям невыгодно брать новичков из-за высоких затрат на их обучение и сложности задач.\n",
        "\n",
        "Почему зарплата растет так стремительно (в 3.25 раза за 3-6 лет)?\n",
        "\n",
        "Высокая отдача от опыта: Опытный DS не просто \"знает Python\", а умеет правильно ставить задачу, выбирать модель, внедрять ее в production и считать экономический эффект. Его работа напрямую генерирует деньги (снижает затраты, увеличивает продажи).\n",
        "\n",
        "Дисбаланс спроса и предложения: Спрос на опытных специалистов колоссален (каждая компания хочет себе DS), а предложение ограничено. Это классическая рыночная экономика: дефицитный ресурс дорожает.\n",
        "\n",
        "Порог входа повышается: Требования к junior-ам растут. То, что было нормой для middle 5 лет назад, сейчас ждут от junior. Соответственно, и оплата для true middle/senior уровня взлетает.\n",
        "\n",
        "Что можно исследовать дополнительно?\n",
        "\n",
        "Анализ \"навыков будущего\": Не просто посчитать частоту упоминания Python/SQL, а выделить группы навыков (e.g., \"MLOps\" (Docker, Kubernetes), \"Big Data\" (Spark, Hadoop), \"Deep Learning\" (TensorFlow, PyTorch)) и посмотреть, в вакансиях для какого опыта они чаще встречаются. Это покажет, в какую сторону движется индустрия.\n",
        "\n",
        "Зарплатная вилка по стекам технологий: Сравнить среднюю зарплату для вакансий, требующих, например, Python + SQL + Tableau, и вакансий, требующих Python + Spark + TensorFlow. Это покажет, какие специализации ценятся выше.\n",
        "\n",
        "Прогноз: Барьер входа останется высоким, но сместится в сторону инженерных навыков (MLOps, облака, работа с большими данными). Pure research-позиций будет становиться меньше, а востребованность инженеров по машинному обучению (Machine Learning Engineer), которые могут не только построить модель, но и заставить ее работать в продакшене, — резко возрастет."
      ]
    },
    {
      "cell_type": "markdown",
      "id": "d7907f6a",
      "metadata": {},
      "source": [
        "### Общий вывод\n",
        "Российский рынок вакансий — это зеркало глобальных трендов: гиперцифровизация, централизация и война за таланты. Он разделен на два полюса: с одной стороны — динамичный, высокооплачиваемый, но труднодоступный мир IT и Data Science, сконцентрированный в столицах. С другой — традиционный рынок с доминированием полной занятости и малого бизнеса в регионах.\n",
        "\n",
        "Ключевым драйвером изменений становится удаленный формат работы. Он является мостом между этими двумя полюсами, позволяя компаниям из центра искать таланты по всей стране и за ее пределами, а специалистам из регионов — получать доступ к лучшим проектам и зарплатам. В ближайшие годы именно этот фактор может оказать наибольшее влияние на перераспределение рынка труда, сделав его более гибким, виртуальным и менее привязанным к конкретным географическим точкам."
      ]
    }
  ],
  "metadata": {
    "colab": {
      "collapsed_sections": [
        "8d62a9f3-f64e-4fe7-bdac-c4dffa16155e"
      ],
      "provenance": []
    },
    "kernelspec": {
      "display_name": "Python 3",
      "language": "python",
      "name": "python3"
    },
    "language_info": {
      "codemirror_mode": {
        "name": "ipython",
        "version": 3
      },
      "file_extension": ".py",
      "mimetype": "text/x-python",
      "name": "python",
      "nbconvert_exporter": "python",
      "pygments_lexer": "ipython3",
      "version": "3.12.3"
    }
  },
  "nbformat": 4,
  "nbformat_minor": 5
}
